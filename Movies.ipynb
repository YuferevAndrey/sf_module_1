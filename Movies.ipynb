{
 "cells": [
  {
   "cell_type": "code",
   "execution_count": 57,
   "metadata": {
    "_cell_guid": "b1076dfc-b9ad-4769-8c92-a6c4dae69d19",
    "_uuid": "8f2839f25d086af736a60e9eeb907d3b93b6e0e5"
   },
   "outputs": [
    {
     "data": {
      "text/html": [
       "<div>\n",
       "<style scoped>\n",
       "    .dataframe tbody tr th:only-of-type {\n",
       "        vertical-align: middle;\n",
       "    }\n",
       "\n",
       "    .dataframe tbody tr th {\n",
       "        vertical-align: top;\n",
       "    }\n",
       "\n",
       "    .dataframe thead th {\n",
       "        text-align: right;\n",
       "    }\n",
       "</style>\n",
       "<table border=\"1\" class=\"dataframe\">\n",
       "  <thead>\n",
       "    <tr style=\"text-align: right;\">\n",
       "      <th></th>\n",
       "      <th>imdb_id</th>\n",
       "      <th>popularity</th>\n",
       "      <th>budget</th>\n",
       "      <th>revenue</th>\n",
       "      <th>original_title</th>\n",
       "      <th>cast</th>\n",
       "      <th>director</th>\n",
       "      <th>tagline</th>\n",
       "      <th>overview</th>\n",
       "      <th>runtime</th>\n",
       "      <th>genres</th>\n",
       "      <th>production_companies</th>\n",
       "      <th>release_date</th>\n",
       "      <th>vote_count</th>\n",
       "      <th>vote_average</th>\n",
       "      <th>release_year</th>\n",
       "      <th>profit</th>\n",
       "      <th>CountCharactersName</th>\n",
       "      <th>CountWordName</th>\n",
       "      <th>WordName</th>\n",
       "    </tr>\n",
       "  </thead>\n",
       "  <tbody>\n",
       "    <tr>\n",
       "      <th>0</th>\n",
       "      <td>tt0369610</td>\n",
       "      <td>32.985763</td>\n",
       "      <td>150000000</td>\n",
       "      <td>1513528810</td>\n",
       "      <td>Jurassic World</td>\n",
       "      <td>Chris Pratt|Bryce Dallas Howard|Irrfan Khan|Vi...</td>\n",
       "      <td>Colin Trevorrow</td>\n",
       "      <td>The park is open.</td>\n",
       "      <td>Twenty-two years after the events of Jurassic ...</td>\n",
       "      <td>124</td>\n",
       "      <td>Action|Adventure|Science Fiction|Thriller</td>\n",
       "      <td>Universal Studios|Amblin Entertainment|Legenda...</td>\n",
       "      <td>2015-06-09</td>\n",
       "      <td>5562</td>\n",
       "      <td>6.5</td>\n",
       "      <td>2015</td>\n",
       "      <td>1363528810</td>\n",
       "      <td>14</td>\n",
       "      <td>2</td>\n",
       "      <td>[Jurassic, World]</td>\n",
       "    </tr>\n",
       "    <tr>\n",
       "      <th>1</th>\n",
       "      <td>tt1392190</td>\n",
       "      <td>28.419936</td>\n",
       "      <td>150000000</td>\n",
       "      <td>378436354</td>\n",
       "      <td>Mad Max: Fury Road</td>\n",
       "      <td>Tom Hardy|Charlize Theron|Hugh Keays-Byrne|Nic...</td>\n",
       "      <td>George Miller</td>\n",
       "      <td>What a Lovely Day.</td>\n",
       "      <td>An apocalyptic story set in the furthest reach...</td>\n",
       "      <td>120</td>\n",
       "      <td>Action|Adventure|Science Fiction|Thriller</td>\n",
       "      <td>Village Roadshow Pictures|Kennedy Miller Produ...</td>\n",
       "      <td>2015-05-13</td>\n",
       "      <td>6185</td>\n",
       "      <td>7.1</td>\n",
       "      <td>2015</td>\n",
       "      <td>228436354</td>\n",
       "      <td>18</td>\n",
       "      <td>4</td>\n",
       "      <td>[Mad, Max:, Fury, Road]</td>\n",
       "    </tr>\n",
       "  </tbody>\n",
       "</table>\n",
       "</div>"
      ],
      "text/plain": [
       "     imdb_id  popularity     budget     revenue      original_title  \\\n",
       "0  tt0369610   32.985763  150000000  1513528810      Jurassic World   \n",
       "1  tt1392190   28.419936  150000000   378436354  Mad Max: Fury Road   \n",
       "\n",
       "                                                cast         director  \\\n",
       "0  Chris Pratt|Bryce Dallas Howard|Irrfan Khan|Vi...  Colin Trevorrow   \n",
       "1  Tom Hardy|Charlize Theron|Hugh Keays-Byrne|Nic...    George Miller   \n",
       "\n",
       "              tagline                                           overview  \\\n",
       "0   The park is open.  Twenty-two years after the events of Jurassic ...   \n",
       "1  What a Lovely Day.  An apocalyptic story set in the furthest reach...   \n",
       "\n",
       "   runtime                                     genres  \\\n",
       "0      124  Action|Adventure|Science Fiction|Thriller   \n",
       "1      120  Action|Adventure|Science Fiction|Thriller   \n",
       "\n",
       "                                production_companies release_date  vote_count  \\\n",
       "0  Universal Studios|Amblin Entertainment|Legenda...   2015-06-09        5562   \n",
       "1  Village Roadshow Pictures|Kennedy Miller Produ...   2015-05-13        6185   \n",
       "\n",
       "   vote_average  release_year      profit  CountCharactersName  CountWordName  \\\n",
       "0           6.5          2015  1363528810                   14              2   \n",
       "1           7.1          2015   228436354                   18              4   \n",
       "\n",
       "                  WordName  \n",
       "0        [Jurassic, World]  \n",
       "1  [Mad, Max:, Fury, Road]  "
      ]
     },
     "execution_count": 57,
     "metadata": {},
     "output_type": "execute_result"
    }
   ],
   "source": [
    "import numpy as np\n",
    "import pandas as pd\n",
    "import seaborn as sns\n",
    "import matplotlib.pyplot as plt\n",
    "import os\n",
    "import re\n",
    "from collections import Counter\n",
    "#print(os.listdir(\"../Юнит 1. Обработка данных\"))\n",
    "\n",
    "# ДЛЯ РАБОТЫ!!!\n",
    "\n",
    "import collections\n",
    "\n",
    "answer_ls = [] # создадим список с ответами. сюда будем добавлять ответы по мере прохождения теста\n",
    "# сюда можем вписать создание новых колонок в датасете\n",
    "\n",
    "data = pd.read_csv('data.csv')\n",
    "\n",
    "# добавляю новую колонку profit с вычислением прибыли от фильма (profit = доход(revenue) - бюджет(budget))\n",
    "# построчно вычисляю и добавляю в исходный датафрейм\n",
    "data['profit'] = data.apply(lambda x: x['revenue']-x['budget'] if x['budget'] > 0 else 0, axis = 1)\n",
    "\n",
    "# добавляю новую колонку CountCharactersName с вычислением количества символов в названии фильма\n",
    "# построчно вычисляю и добавляю в исходный датафрейм\n",
    "data['CountCharactersName'] = data.apply(lambda x: len(x.loc['original_title']), axis = 1)\n",
    "\n",
    "# добавляю новую колонку CountWordName с вычислением количества слов в названии\n",
    "# построчно вычисляю и добавляю в исходный датафрейм\n",
    "data['CountWordName'] = data.apply(lambda x: len(x.loc['original_title'].split()), axis = 1)\n",
    "\n",
    "# добавляю новую колонку WordName с разделением слов в названии\n",
    "# построчно вычисляю и добавляю в исходный датафрейм\n",
    "data['WordName'] = data.apply(lambda x: x.loc['original_title'].split(), axis = 1)\n",
    "\n",
    "#Преобразование в формат даты год-месяц-день\n",
    "data['release_date'] = pd.to_datetime(data['release_date'])\n",
    "\n",
    "data.head(2)"
   ]
  },
  {
   "cell_type": "code",
   "execution_count": 54,
   "metadata": {},
   "outputs": [],
   "source": [
    "# исходный датафрейм\n",
    "#data = pd.read_csv('data.csv')\n",
    "\n",
    "# вывести элементы с определенным названием\n",
    "#display(data[data['original_title'] == 'Knowing'])\n",
    "\n",
    "# вывести элементы с определенным индексом\n",
    "# display(data.iloc[276])\n",
    "\n",
    "# вывести значение столбца с определенным индексом\n",
    "# display(data.iloc[276]['cast'])\n",
    "\n",
    "# вывести значение столбца с определенным индексом\n",
    "# display(data.loc[276]['cast'])\n",
    "\n",
    "# вывести датафрем с сортировкой по определенному столбцу\n",
    "#display(data.sort_values('release_year', ascending=False))"
   ]
  },
  {
   "cell_type": "code",
   "execution_count": 5,
   "metadata": {},
   "outputs": [
    {
     "data": {
      "text/plain": [
       "1890"
      ]
     },
     "execution_count": 5,
     "metadata": {},
     "output_type": "execute_result"
    }
   ],
   "source": [
    "# общее количество записей\n",
    "len(data)"
   ]
  },
  {
   "cell_type": "markdown",
   "metadata": {},
   "source": [
    "# Предобработка датасета"
   ]
  },
  {
   "cell_type": "code",
   "execution_count": 10,
   "metadata": {},
   "outputs": [],
   "source": [
    "answer_ls = [] # создадим список с ответами. сюда будем добавлять ответы по мере прохождения теста\n",
    "# сюда можем вписать создание новых колонок в датасете"
   ]
  },
  {
   "cell_type": "markdown",
   "metadata": {},
   "source": [
    "# 1. У какого фильма из списка самый большой бюджет?\n",
    "Варианты ответов:\n",
    "1. The Dark Knight Rises (tt1345836)\n",
    "2. Spider-Man 3 (tt0413300)\n",
    "3. Avengers: Age of Ultron (tt2395427)\n",
    "4. The Warrior's Way\t(tt1032751)\n",
    "5. Pirates of the Caribbean: On Stranger Tides (tt1298650)"
   ]
  },
  {
   "cell_type": "code",
   "execution_count": 22,
   "metadata": {},
   "outputs": [
    {
     "data": {
      "text/html": [
       "<div>\n",
       "<style scoped>\n",
       "    .dataframe tbody tr th:only-of-type {\n",
       "        vertical-align: middle;\n",
       "    }\n",
       "\n",
       "    .dataframe tbody tr th {\n",
       "        vertical-align: top;\n",
       "    }\n",
       "\n",
       "    .dataframe thead th {\n",
       "        text-align: right;\n",
       "    }\n",
       "</style>\n",
       "<table border=\"1\" class=\"dataframe\">\n",
       "  <thead>\n",
       "    <tr style=\"text-align: right;\">\n",
       "      <th></th>\n",
       "      <th>imdb_id</th>\n",
       "      <th>popularity</th>\n",
       "      <th>budget</th>\n",
       "      <th>revenue</th>\n",
       "      <th>original_title</th>\n",
       "      <th>cast</th>\n",
       "      <th>director</th>\n",
       "      <th>tagline</th>\n",
       "      <th>overview</th>\n",
       "      <th>runtime</th>\n",
       "      <th>genres</th>\n",
       "      <th>production_companies</th>\n",
       "      <th>release_date</th>\n",
       "      <th>vote_count</th>\n",
       "      <th>vote_average</th>\n",
       "      <th>release_year</th>\n",
       "    </tr>\n",
       "  </thead>\n",
       "  <tbody>\n",
       "    <tr>\n",
       "      <th>491</th>\n",
       "      <td>tt1032751</td>\n",
       "      <td>0.25054</td>\n",
       "      <td>425000000</td>\n",
       "      <td>11087569</td>\n",
       "      <td>The Warrior's Way</td>\n",
       "      <td>Kate Bosworth|Jang Dong-gun|Geoffrey Rush|Dann...</td>\n",
       "      <td>Sngmoo Lee</td>\n",
       "      <td>Assassin. Hero. Legend.</td>\n",
       "      <td>An Asian assassin (Dong-gun Jang) is forced to...</td>\n",
       "      <td>100</td>\n",
       "      <td>Adventure|Fantasy|Action|Western|Thriller</td>\n",
       "      <td>Boram Entertainment Inc.</td>\n",
       "      <td>12/2/2010</td>\n",
       "      <td>74</td>\n",
       "      <td>6.4</td>\n",
       "      <td>2010</td>\n",
       "    </tr>\n",
       "  </tbody>\n",
       "</table>\n",
       "</div>"
      ],
      "text/plain": [
       "       imdb_id  popularity     budget   revenue     original_title  \\\n",
       "491  tt1032751     0.25054  425000000  11087569  The Warrior's Way   \n",
       "\n",
       "                                                  cast    director  \\\n",
       "491  Kate Bosworth|Jang Dong-gun|Geoffrey Rush|Dann...  Sngmoo Lee   \n",
       "\n",
       "                     tagline  \\\n",
       "491  Assassin. Hero. Legend.   \n",
       "\n",
       "                                              overview  runtime  \\\n",
       "491  An Asian assassin (Dong-gun Jang) is forced to...      100   \n",
       "\n",
       "                                        genres      production_companies  \\\n",
       "491  Adventure|Fantasy|Action|Western|Thriller  Boram Entertainment Inc.   \n",
       "\n",
       "    release_date  vote_count  vote_average  release_year  \n",
       "491    12/2/2010          74           6.4          2010  "
      ]
     },
     "metadata": {},
     "output_type": "display_data"
    }
   ],
   "source": [
    "# фильм с максимальным бюджетом\n",
    "display(data.loc[data['budget'] == data['budget'].max()])"
   ]
  },
  {
   "cell_type": "code",
   "execution_count": 66,
   "metadata": {},
   "outputs": [],
   "source": [
    "# тут вводим ваш ответ и добавлем в его список ответов (сейчас для примера стоит \"1\")\n",
    "answer_ls.append(4)"
   ]
  },
  {
   "cell_type": "markdown",
   "metadata": {},
   "source": [
    "# 2. Какой из фильмов самый длительный (в минутах)\n",
    "1. The Lord of the Rings: The Return of the King\t(tt0167260)\n",
    "2. Gods and Generals\t(tt0279111)\n",
    "3. King Kong\t(tt0360717)\n",
    "4. Pearl Harbor\t(tt0213149)\n",
    "5. Alexander\t(tt0346491)"
   ]
  },
  {
   "cell_type": "code",
   "execution_count": 6,
   "metadata": {},
   "outputs": [
    {
     "data": {
      "text/html": [
       "<div>\n",
       "<style scoped>\n",
       "    .dataframe tbody tr th:only-of-type {\n",
       "        vertical-align: middle;\n",
       "    }\n",
       "\n",
       "    .dataframe tbody tr th {\n",
       "        vertical-align: top;\n",
       "    }\n",
       "\n",
       "    .dataframe thead th {\n",
       "        text-align: right;\n",
       "    }\n",
       "</style>\n",
       "<table border=\"1\" class=\"dataframe\">\n",
       "  <thead>\n",
       "    <tr style=\"text-align: right;\">\n",
       "      <th></th>\n",
       "      <th>imdb_id</th>\n",
       "      <th>popularity</th>\n",
       "      <th>budget</th>\n",
       "      <th>revenue</th>\n",
       "      <th>original_title</th>\n",
       "      <th>cast</th>\n",
       "      <th>director</th>\n",
       "      <th>tagline</th>\n",
       "      <th>overview</th>\n",
       "      <th>runtime</th>\n",
       "      <th>genres</th>\n",
       "      <th>production_companies</th>\n",
       "      <th>release_date</th>\n",
       "      <th>vote_count</th>\n",
       "      <th>vote_average</th>\n",
       "      <th>release_year</th>\n",
       "    </tr>\n",
       "  </thead>\n",
       "  <tbody>\n",
       "    <tr>\n",
       "      <th>1158</th>\n",
       "      <td>tt0279111</td>\n",
       "      <td>0.469518</td>\n",
       "      <td>56000000</td>\n",
       "      <td>12923936</td>\n",
       "      <td>Gods and Generals</td>\n",
       "      <td>Stephen Lang|Jeff Daniels|Robert Duvall|Kevin ...</td>\n",
       "      <td>Ronald F. Maxwell</td>\n",
       "      <td>The nations heart was touched by...</td>\n",
       "      <td>The film centers mostly around the personal an...</td>\n",
       "      <td>214</td>\n",
       "      <td>Drama|History|War</td>\n",
       "      <td>Turner Pictures|Antietam Filmworks</td>\n",
       "      <td>2/21/2003</td>\n",
       "      <td>23</td>\n",
       "      <td>5.8</td>\n",
       "      <td>2003</td>\n",
       "    </tr>\n",
       "  </tbody>\n",
       "</table>\n",
       "</div>"
      ],
      "text/plain": [
       "        imdb_id  popularity    budget   revenue     original_title  \\\n",
       "1158  tt0279111    0.469518  56000000  12923936  Gods and Generals   \n",
       "\n",
       "                                                   cast           director  \\\n",
       "1158  Stephen Lang|Jeff Daniels|Robert Duvall|Kevin ...  Ronald F. Maxwell   \n",
       "\n",
       "                                  tagline  \\\n",
       "1158  The nations heart was touched by...   \n",
       "\n",
       "                                               overview  runtime  \\\n",
       "1158  The film centers mostly around the personal an...      214   \n",
       "\n",
       "                 genres                production_companies release_date  \\\n",
       "1158  Drama|History|War  Turner Pictures|Antietam Filmworks    2/21/2003   \n",
       "\n",
       "      vote_count  vote_average  release_year  \n",
       "1158          23           5.8          2003  "
      ]
     },
     "metadata": {},
     "output_type": "display_data"
    }
   ],
   "source": [
    "display(data.loc[data['runtime'] == data['runtime'].max()])"
   ]
  },
  {
   "cell_type": "code",
   "execution_count": 67,
   "metadata": {},
   "outputs": [],
   "source": [
    "answer_ls.append(2)"
   ]
  },
  {
   "cell_type": "markdown",
   "metadata": {},
   "source": [
    "# 3. Какой из фильмов самый короткий (в минутах)\n",
    "Варианты ответов:\n",
    "\n",
    "1. Home on the Range\ttt0299172\n",
    "2. The Jungle Book 2\ttt0283426\n",
    "3. Winnie the Pooh\ttt1449283\n",
    "4. Corpse Bride\ttt0121164\n",
    "5. Hoodwinked!\ttt0443536"
   ]
  },
  {
   "cell_type": "code",
   "execution_count": 8,
   "metadata": {},
   "outputs": [
    {
     "data": {
      "text/html": [
       "<div>\n",
       "<style scoped>\n",
       "    .dataframe tbody tr th:only-of-type {\n",
       "        vertical-align: middle;\n",
       "    }\n",
       "\n",
       "    .dataframe tbody tr th {\n",
       "        vertical-align: top;\n",
       "    }\n",
       "\n",
       "    .dataframe thead th {\n",
       "        text-align: right;\n",
       "    }\n",
       "</style>\n",
       "<table border=\"1\" class=\"dataframe\">\n",
       "  <thead>\n",
       "    <tr style=\"text-align: right;\">\n",
       "      <th></th>\n",
       "      <th>imdb_id</th>\n",
       "      <th>popularity</th>\n",
       "      <th>budget</th>\n",
       "      <th>revenue</th>\n",
       "      <th>original_title</th>\n",
       "      <th>cast</th>\n",
       "      <th>director</th>\n",
       "      <th>tagline</th>\n",
       "      <th>overview</th>\n",
       "      <th>runtime</th>\n",
       "      <th>genres</th>\n",
       "      <th>production_companies</th>\n",
       "      <th>release_date</th>\n",
       "      <th>vote_count</th>\n",
       "      <th>vote_average</th>\n",
       "      <th>release_year</th>\n",
       "    </tr>\n",
       "  </thead>\n",
       "  <tbody>\n",
       "    <tr>\n",
       "      <th>769</th>\n",
       "      <td>tt1449283</td>\n",
       "      <td>1.425344</td>\n",
       "      <td>30000000</td>\n",
       "      <td>14460000</td>\n",
       "      <td>Winnie the Pooh</td>\n",
       "      <td>Jim Cummings|Travis Oates|Jim Cummings|Bud Luc...</td>\n",
       "      <td>Stephen Anderson|Don Hall</td>\n",
       "      <td>Oh Pooh.</td>\n",
       "      <td>During an ordinary day in Hundred Acre Wood, W...</td>\n",
       "      <td>63</td>\n",
       "      <td>Animation|Family</td>\n",
       "      <td>Walt Disney Pictures|Walt Disney Animation Stu...</td>\n",
       "      <td>4/13/2011</td>\n",
       "      <td>174</td>\n",
       "      <td>6.8</td>\n",
       "      <td>2011</td>\n",
       "    </tr>\n",
       "  </tbody>\n",
       "</table>\n",
       "</div>"
      ],
      "text/plain": [
       "       imdb_id  popularity    budget   revenue   original_title  \\\n",
       "769  tt1449283    1.425344  30000000  14460000  Winnie the Pooh   \n",
       "\n",
       "                                                  cast  \\\n",
       "769  Jim Cummings|Travis Oates|Jim Cummings|Bud Luc...   \n",
       "\n",
       "                      director   tagline  \\\n",
       "769  Stephen Anderson|Don Hall  Oh Pooh.   \n",
       "\n",
       "                                              overview  runtime  \\\n",
       "769  During an ordinary day in Hundred Acre Wood, W...       63   \n",
       "\n",
       "               genres                               production_companies  \\\n",
       "769  Animation|Family  Walt Disney Pictures|Walt Disney Animation Stu...   \n",
       "\n",
       "    release_date  vote_count  vote_average  release_year  \n",
       "769    4/13/2011         174           6.8          2011  "
      ]
     },
     "metadata": {},
     "output_type": "display_data"
    }
   ],
   "source": [
    "display(data.loc[data['runtime'] == data['runtime'].min()])"
   ]
  },
  {
   "cell_type": "code",
   "execution_count": 68,
   "metadata": {},
   "outputs": [],
   "source": [
    "answer_ls.append(3)"
   ]
  },
  {
   "cell_type": "markdown",
   "metadata": {},
   "source": [
    "# 4. Средняя длительность фильма?\n",
    "\n",
    "Варианты ответов:\n",
    "1. 115\n",
    "2. 110\n",
    "3. 105\n",
    "4. 120\n",
    "5. 100\n"
   ]
  },
  {
   "cell_type": "code",
   "execution_count": 10,
   "metadata": {},
   "outputs": [
    {
     "data": {
      "text/plain": [
       "109.65343915343915"
      ]
     },
     "metadata": {},
     "output_type": "display_data"
    }
   ],
   "source": [
    "display(data['runtime'].mean())"
   ]
  },
  {
   "cell_type": "code",
   "execution_count": 69,
   "metadata": {},
   "outputs": [],
   "source": [
    "answer_ls.append(2)"
   ]
  },
  {
   "cell_type": "markdown",
   "metadata": {},
   "source": [
    "# 5. Средняя длительность фильма по медиане?\n",
    "Варианты ответов:\n",
    "1. 106\n",
    "2. 112\n",
    "3. 101\n",
    "4. 120\n",
    "5. 115\n",
    "\n",
    "\n"
   ]
  },
  {
   "cell_type": "code",
   "execution_count": 12,
   "metadata": {},
   "outputs": [
    {
     "data": {
      "text/plain": [
       "106.5"
      ]
     },
     "metadata": {},
     "output_type": "display_data"
    }
   ],
   "source": [
    "display(data['runtime'].median())"
   ]
  },
  {
   "cell_type": "code",
   "execution_count": 70,
   "metadata": {},
   "outputs": [],
   "source": [
    "answer_ls.append(1)"
   ]
  },
  {
   "cell_type": "markdown",
   "metadata": {},
   "source": [
    "# 6. Какой самый прибыльный фильм?\n",
    "\n",
    "Внимание! Здесь и далее под «прибылью» или «убытками» понимается разность между сборами и бюджетом фильма.\n",
    "\n",
    "Варианты ответов:\n",
    "1. The Avengers\ttt0848228\n",
    "2. Minions\ttt2293640\n",
    "3. Star Wars: The Force Awakens\ttt2488496\n",
    "4. Furious 7\ttt2820852\n",
    "5. Avatar\ttt0499549"
   ]
  },
  {
   "cell_type": "code",
   "execution_count": 23,
   "metadata": {},
   "outputs": [
    {
     "data": {
      "text/html": [
       "<div>\n",
       "<style scoped>\n",
       "    .dataframe tbody tr th:only-of-type {\n",
       "        vertical-align: middle;\n",
       "    }\n",
       "\n",
       "    .dataframe tbody tr th {\n",
       "        vertical-align: top;\n",
       "    }\n",
       "\n",
       "    .dataframe thead th {\n",
       "        text-align: right;\n",
       "    }\n",
       "</style>\n",
       "<table border=\"1\" class=\"dataframe\">\n",
       "  <thead>\n",
       "    <tr style=\"text-align: right;\">\n",
       "      <th></th>\n",
       "      <th>imdb_id</th>\n",
       "      <th>popularity</th>\n",
       "      <th>budget</th>\n",
       "      <th>revenue</th>\n",
       "      <th>original_title</th>\n",
       "      <th>cast</th>\n",
       "      <th>director</th>\n",
       "      <th>tagline</th>\n",
       "      <th>overview</th>\n",
       "      <th>runtime</th>\n",
       "      <th>genres</th>\n",
       "      <th>production_companies</th>\n",
       "      <th>release_date</th>\n",
       "      <th>vote_count</th>\n",
       "      <th>vote_average</th>\n",
       "      <th>release_year</th>\n",
       "      <th>profit</th>\n",
       "    </tr>\n",
       "  </thead>\n",
       "  <tbody>\n",
       "    <tr>\n",
       "      <th>239</th>\n",
       "      <td>tt0499549</td>\n",
       "      <td>9.432768</td>\n",
       "      <td>237000000</td>\n",
       "      <td>2781505847</td>\n",
       "      <td>Avatar</td>\n",
       "      <td>Sam Worthington|Zoe Saldana|Sigourney Weaver|S...</td>\n",
       "      <td>James Cameron</td>\n",
       "      <td>Enter the World of Pandora.</td>\n",
       "      <td>In the 22nd century, a paraplegic Marine is di...</td>\n",
       "      <td>162</td>\n",
       "      <td>Action|Adventure|Fantasy|Science Fiction</td>\n",
       "      <td>Ingenious Film Partners|Twentieth Century Fox ...</td>\n",
       "      <td>12/10/2009</td>\n",
       "      <td>8458</td>\n",
       "      <td>7.1</td>\n",
       "      <td>2009</td>\n",
       "      <td>2544505847</td>\n",
       "    </tr>\n",
       "  </tbody>\n",
       "</table>\n",
       "</div>"
      ],
      "text/plain": [
       "       imdb_id  popularity     budget     revenue original_title  \\\n",
       "239  tt0499549    9.432768  237000000  2781505847         Avatar   \n",
       "\n",
       "                                                  cast       director  \\\n",
       "239  Sam Worthington|Zoe Saldana|Sigourney Weaver|S...  James Cameron   \n",
       "\n",
       "                         tagline  \\\n",
       "239  Enter the World of Pandora.   \n",
       "\n",
       "                                              overview  runtime  \\\n",
       "239  In the 22nd century, a paraplegic Marine is di...      162   \n",
       "\n",
       "                                       genres  \\\n",
       "239  Action|Adventure|Fantasy|Science Fiction   \n",
       "\n",
       "                                  production_companies release_date  \\\n",
       "239  Ingenious Film Partners|Twentieth Century Fox ...   12/10/2009   \n",
       "\n",
       "     vote_count  vote_average  release_year      profit  \n",
       "239        8458           7.1          2009  2544505847  "
      ]
     },
     "metadata": {},
     "output_type": "display_data"
    }
   ],
   "source": [
    "# добавляю новую колонку profit с вычислением прибыли от фильма (profit = доход(revenue) - бюджет(budget))\n",
    "# построчно вычисляю и добавляю в исходный датафрейм\n",
    "data['profit'] = data.apply(lambda x: x['revenue']-x['budget'] if x['budget'] > 0 else 0, axis = 1)\n",
    "# отображаю какой фильм самый доходный\n",
    "display(data.loc[data['profit'] == data['profit'].max()])"
   ]
  },
  {
   "cell_type": "code",
   "execution_count": 71,
   "metadata": {},
   "outputs": [],
   "source": [
    "answer_ls.append(5)"
   ]
  },
  {
   "cell_type": "markdown",
   "metadata": {},
   "source": [
    "# 7. Какой фильм самый убыточный?\n",
    "Варианты ответов:\n",
    "1. Supernova tt0134983\n",
    "2. The Warrior's Way tt1032751\n",
    "3. Flushed Away\ttt0424095\n",
    "4. The Adventures of Pluto Nash\ttt0180052\n",
    "5. The Lone Ranger\ttt1210819"
   ]
  },
  {
   "cell_type": "code",
   "execution_count": 6,
   "metadata": {},
   "outputs": [
    {
     "data": {
      "text/html": [
       "<div>\n",
       "<style scoped>\n",
       "    .dataframe tbody tr th:only-of-type {\n",
       "        vertical-align: middle;\n",
       "    }\n",
       "\n",
       "    .dataframe tbody tr th {\n",
       "        vertical-align: top;\n",
       "    }\n",
       "\n",
       "    .dataframe thead th {\n",
       "        text-align: right;\n",
       "    }\n",
       "</style>\n",
       "<table border=\"1\" class=\"dataframe\">\n",
       "  <thead>\n",
       "    <tr style=\"text-align: right;\">\n",
       "      <th></th>\n",
       "      <th>imdb_id</th>\n",
       "      <th>popularity</th>\n",
       "      <th>budget</th>\n",
       "      <th>revenue</th>\n",
       "      <th>original_title</th>\n",
       "      <th>cast</th>\n",
       "      <th>director</th>\n",
       "      <th>tagline</th>\n",
       "      <th>overview</th>\n",
       "      <th>runtime</th>\n",
       "      <th>genres</th>\n",
       "      <th>production_companies</th>\n",
       "      <th>release_date</th>\n",
       "      <th>vote_count</th>\n",
       "      <th>vote_average</th>\n",
       "      <th>release_year</th>\n",
       "      <th>profit</th>\n",
       "    </tr>\n",
       "  </thead>\n",
       "  <tbody>\n",
       "    <tr>\n",
       "      <th>491</th>\n",
       "      <td>tt1032751</td>\n",
       "      <td>0.25054</td>\n",
       "      <td>425000000</td>\n",
       "      <td>11087569</td>\n",
       "      <td>The Warrior's Way</td>\n",
       "      <td>Kate Bosworth|Jang Dong-gun|Geoffrey Rush|Dann...</td>\n",
       "      <td>Sngmoo Lee</td>\n",
       "      <td>Assassin. Hero. Legend.</td>\n",
       "      <td>An Asian assassin (Dong-gun Jang) is forced to...</td>\n",
       "      <td>100</td>\n",
       "      <td>Adventure|Fantasy|Action|Western|Thriller</td>\n",
       "      <td>Boram Entertainment Inc.</td>\n",
       "      <td>12/2/2010</td>\n",
       "      <td>74</td>\n",
       "      <td>6.4</td>\n",
       "      <td>2010</td>\n",
       "      <td>-413912431</td>\n",
       "    </tr>\n",
       "  </tbody>\n",
       "</table>\n",
       "</div>"
      ],
      "text/plain": [
       "       imdb_id  popularity     budget   revenue     original_title  \\\n",
       "491  tt1032751     0.25054  425000000  11087569  The Warrior's Way   \n",
       "\n",
       "                                                  cast    director  \\\n",
       "491  Kate Bosworth|Jang Dong-gun|Geoffrey Rush|Dann...  Sngmoo Lee   \n",
       "\n",
       "                     tagline  \\\n",
       "491  Assassin. Hero. Legend.   \n",
       "\n",
       "                                              overview  runtime  \\\n",
       "491  An Asian assassin (Dong-gun Jang) is forced to...      100   \n",
       "\n",
       "                                        genres      production_companies  \\\n",
       "491  Adventure|Fantasy|Action|Western|Thriller  Boram Entertainment Inc.   \n",
       "\n",
       "    release_date  vote_count  vote_average  release_year     profit  \n",
       "491    12/2/2010          74           6.4          2010 -413912431  "
      ]
     },
     "metadata": {},
     "output_type": "display_data"
    }
   ],
   "source": [
    "display(data.loc[data['profit'] == data['profit'].min()])"
   ]
  },
  {
   "cell_type": "code",
   "execution_count": 72,
   "metadata": {},
   "outputs": [],
   "source": [
    "answer_ls.append(2)"
   ]
  },
  {
   "cell_type": "markdown",
   "metadata": {},
   "source": [
    "# 8. Сколько всего фильмов в прибыли?\n",
    "\n",
    "У скольких фильмов из датасета объем сборов оказался выше бюджета?\n",
    "\n",
    "Варианты ответов:\n",
    "1. 1478\n",
    "2. 1520\n",
    "3. 1241\n",
    "4. 1135\n",
    "5. 1398\n"
   ]
  },
  {
   "cell_type": "code",
   "execution_count": 7,
   "metadata": {},
   "outputs": [
    {
     "data": {
      "text/plain": [
       "1478"
      ]
     },
     "metadata": {},
     "output_type": "display_data"
    }
   ],
   "source": [
    "# подсчитываю все фильмы значение прибыли которых больше 0\n",
    "display(len(data.loc[data['profit'] > 0]))"
   ]
  },
  {
   "cell_type": "code",
   "execution_count": 73,
   "metadata": {},
   "outputs": [],
   "source": [
    "answer_ls.append(1)"
   ]
  },
  {
   "cell_type": "markdown",
   "metadata": {},
   "source": [
    "# 9. Самый прибыльный фильм в 2008 году?\n",
    "Варианты ответов:\n",
    "1. Madagascar: Escape 2 Africa\ttt0479952\n",
    "2. Iron Man\ttt0371746\n",
    "3. Kung Fu Panda\ttt0441773\n",
    "4. The Dark Knight\ttt0468569\n",
    "5. Mamma Mia!\ttt0795421"
   ]
  },
  {
   "cell_type": "code",
   "execution_count": 15,
   "metadata": {},
   "outputs": [
    {
     "data": {
      "text/html": [
       "<div>\n",
       "<style scoped>\n",
       "    .dataframe tbody tr th:only-of-type {\n",
       "        vertical-align: middle;\n",
       "    }\n",
       "\n",
       "    .dataframe tbody tr th {\n",
       "        vertical-align: top;\n",
       "    }\n",
       "\n",
       "    .dataframe thead th {\n",
       "        text-align: right;\n",
       "    }\n",
       "</style>\n",
       "<table border=\"1\" class=\"dataframe\">\n",
       "  <thead>\n",
       "    <tr style=\"text-align: right;\">\n",
       "      <th></th>\n",
       "      <th>imdb_id</th>\n",
       "      <th>popularity</th>\n",
       "      <th>budget</th>\n",
       "      <th>revenue</th>\n",
       "      <th>original_title</th>\n",
       "      <th>cast</th>\n",
       "      <th>director</th>\n",
       "      <th>tagline</th>\n",
       "      <th>overview</th>\n",
       "      <th>runtime</th>\n",
       "      <th>genres</th>\n",
       "      <th>production_companies</th>\n",
       "      <th>release_date</th>\n",
       "      <th>vote_count</th>\n",
       "      <th>vote_average</th>\n",
       "      <th>release_year</th>\n",
       "      <th>profit</th>\n",
       "    </tr>\n",
       "  </thead>\n",
       "  <tbody>\n",
       "    <tr>\n",
       "      <th>600</th>\n",
       "      <td>tt0468569</td>\n",
       "      <td>8.466668</td>\n",
       "      <td>185000000</td>\n",
       "      <td>1001921825</td>\n",
       "      <td>The Dark Knight</td>\n",
       "      <td>Christian Bale|Michael Caine|Heath Ledger|Aaro...</td>\n",
       "      <td>Christopher Nolan</td>\n",
       "      <td>Why So Serious?</td>\n",
       "      <td>Batman raises the stakes in his war on crime. ...</td>\n",
       "      <td>152</td>\n",
       "      <td>Drama|Action|Crime|Thriller</td>\n",
       "      <td>DC Comics|Legendary Pictures|Warner Bros.|Syncopy</td>\n",
       "      <td>7/16/2008</td>\n",
       "      <td>8432</td>\n",
       "      <td>8.1</td>\n",
       "      <td>2008</td>\n",
       "      <td>816921825</td>\n",
       "    </tr>\n",
       "  </tbody>\n",
       "</table>\n",
       "</div>"
      ],
      "text/plain": [
       "       imdb_id  popularity     budget     revenue   original_title  \\\n",
       "600  tt0468569    8.466668  185000000  1001921825  The Dark Knight   \n",
       "\n",
       "                                                  cast           director  \\\n",
       "600  Christian Bale|Michael Caine|Heath Ledger|Aaro...  Christopher Nolan   \n",
       "\n",
       "             tagline                                           overview  \\\n",
       "600  Why So Serious?  Batman raises the stakes in his war on crime. ...   \n",
       "\n",
       "     runtime                       genres  \\\n",
       "600      152  Drama|Action|Crime|Thriller   \n",
       "\n",
       "                                  production_companies release_date  \\\n",
       "600  DC Comics|Legendary Pictures|Warner Bros.|Syncopy    7/16/2008   \n",
       "\n",
       "     vote_count  vote_average  release_year     profit  \n",
       "600        8432           8.1          2008  816921825  "
      ]
     },
     "metadata": {},
     "output_type": "display_data"
    }
   ],
   "source": [
    "# создаю датафрейм с фильтрацией из основного датафрейма прибыльных фильмов за 2008 год\n",
    "s = data.query('release_year==2008 & profit > 0')\n",
    "\n",
    "# отображаю самый прибыльный фильм из полученного датафрейма\n",
    "display(s.loc[s['profit'] == s['profit'].max()])"
   ]
  },
  {
   "cell_type": "code",
   "execution_count": 74,
   "metadata": {},
   "outputs": [],
   "source": [
    "answer_ls.append(4)"
   ]
  },
  {
   "cell_type": "markdown",
   "metadata": {},
   "source": [
    "# 10. Самый убыточный фильм за период с 2012 по 2014 (включительно)?\n",
    "Варианты ответов:\n",
    "1. Winter's Tale\ttt1837709\n",
    "2. Stolen\ttt1656186\n",
    "3. Broken City\ttt1235522\n",
    "4. Upside Down\ttt1374992\n",
    "5. The Lone Ranger\ttt1210819\n"
   ]
  },
  {
   "cell_type": "code",
   "execution_count": 16,
   "metadata": {},
   "outputs": [
    {
     "data": {
      "text/html": [
       "<div>\n",
       "<style scoped>\n",
       "    .dataframe tbody tr th:only-of-type {\n",
       "        vertical-align: middle;\n",
       "    }\n",
       "\n",
       "    .dataframe tbody tr th {\n",
       "        vertical-align: top;\n",
       "    }\n",
       "\n",
       "    .dataframe thead th {\n",
       "        text-align: right;\n",
       "    }\n",
       "</style>\n",
       "<table border=\"1\" class=\"dataframe\">\n",
       "  <thead>\n",
       "    <tr style=\"text-align: right;\">\n",
       "      <th></th>\n",
       "      <th>imdb_id</th>\n",
       "      <th>popularity</th>\n",
       "      <th>budget</th>\n",
       "      <th>revenue</th>\n",
       "      <th>original_title</th>\n",
       "      <th>cast</th>\n",
       "      <th>director</th>\n",
       "      <th>tagline</th>\n",
       "      <th>overview</th>\n",
       "      <th>runtime</th>\n",
       "      <th>genres</th>\n",
       "      <th>production_companies</th>\n",
       "      <th>release_date</th>\n",
       "      <th>vote_count</th>\n",
       "      <th>vote_average</th>\n",
       "      <th>release_year</th>\n",
       "      <th>profit</th>\n",
       "    </tr>\n",
       "  </thead>\n",
       "  <tbody>\n",
       "    <tr>\n",
       "      <th>1246</th>\n",
       "      <td>tt1210819</td>\n",
       "      <td>1.21451</td>\n",
       "      <td>255000000</td>\n",
       "      <td>89289910</td>\n",
       "      <td>The Lone Ranger</td>\n",
       "      <td>Johnny Depp|Armie Hammer|William Fichtner|Hele...</td>\n",
       "      <td>Gore Verbinski</td>\n",
       "      <td>Never Take Off the Mask</td>\n",
       "      <td>The Texas Rangers chase down a gang of outlaws...</td>\n",
       "      <td>149</td>\n",
       "      <td>Action|Adventure|Western</td>\n",
       "      <td>Walt Disney Pictures|Jerry Bruckheimer Films|I...</td>\n",
       "      <td>7/3/2013</td>\n",
       "      <td>1607</td>\n",
       "      <td>6.0</td>\n",
       "      <td>2013</td>\n",
       "      <td>-165710090</td>\n",
       "    </tr>\n",
       "  </tbody>\n",
       "</table>\n",
       "</div>"
      ],
      "text/plain": [
       "        imdb_id  popularity     budget   revenue   original_title  \\\n",
       "1246  tt1210819     1.21451  255000000  89289910  The Lone Ranger   \n",
       "\n",
       "                                                   cast        director  \\\n",
       "1246  Johnny Depp|Armie Hammer|William Fichtner|Hele...  Gore Verbinski   \n",
       "\n",
       "                      tagline  \\\n",
       "1246  Never Take Off the Mask   \n",
       "\n",
       "                                               overview  runtime  \\\n",
       "1246  The Texas Rangers chase down a gang of outlaws...      149   \n",
       "\n",
       "                        genres  \\\n",
       "1246  Action|Adventure|Western   \n",
       "\n",
       "                                   production_companies release_date  \\\n",
       "1246  Walt Disney Pictures|Jerry Bruckheimer Films|I...     7/3/2013   \n",
       "\n",
       "      vote_count  vote_average  release_year     profit  \n",
       "1246        1607           6.0          2013 -165710090  "
      ]
     },
     "metadata": {},
     "output_type": "display_data"
    }
   ],
   "source": [
    "# создаю датафрейм с фильтрацией из основного датафрейма прибыльных фильмов с 2012 до 2014 (включительно) год\n",
    "s = data.query('2012 <= release_year <= 2014')\n",
    "# отображаю самый убыточный фильм из полученного датафрейма\n",
    "display(s.loc[s['profit'] == s['profit'].min()])"
   ]
  },
  {
   "cell_type": "code",
   "execution_count": 75,
   "metadata": {},
   "outputs": [],
   "source": [
    "answer_ls.append(5)"
   ]
  },
  {
   "cell_type": "markdown",
   "metadata": {},
   "source": [
    "# 11. Какого жанра фильмов больше всего?\n",
    "Варианты ответов:\n",
    "1. Action\n",
    "2. Adventure\n",
    "3. Drama\n",
    "4. Comedy\n",
    "5. Thriller"
   ]
  },
  {
   "cell_type": "code",
   "execution_count": 28,
   "metadata": {},
   "outputs": [
    {
     "name": "stdout",
     "output_type": "stream",
     "text": [
      "583\n",
      "416\n",
      "782\n",
      "683\n",
      "597\n"
     ]
    }
   ],
   "source": [
    "# вывожу количество строк где в поле genres встречается определенное слово, исключаю строки с пропущенными значениями\n",
    "print(len(data.loc[data['genres'].str.contains(\"Action\", na=False)]))\n",
    "print(len(data.loc[data['genres'].str.contains(\"Adventure\", na=False)]))\n",
    "print(len(data.loc[data['genres'].str.contains(\"Drama\", na=False)]))\n",
    "print(len(data.loc[data['genres'].str.contains(\"Comedy\", na=False)]))\n",
    "print(len(data.loc[data['genres'].str.contains(\"Thriller\", na=False)]))"
   ]
  },
  {
   "cell_type": "code",
   "execution_count": 76,
   "metadata": {},
   "outputs": [],
   "source": [
    "answer_ls.append(3)"
   ]
  },
  {
   "cell_type": "markdown",
   "metadata": {},
   "source": [
    "# 12. Какого жанра среди прибыльных фильмов больше всего?\n",
    "Варианты ответов:\n",
    "1. Drama\n",
    "2. Comedy\n",
    "3. Action\n",
    "4. Thriller\n",
    "5. Adventure"
   ]
  },
  {
   "cell_type": "code",
   "execution_count": 23,
   "metadata": {},
   "outputs": [
    {
     "name": "stdout",
     "output_type": "stream",
     "text": [
      "560\n",
      "551\n",
      "444\n",
      "446\n",
      "337\n"
     ]
    }
   ],
   "source": [
    "# создаю датафрейм с фильтрацией из основного датафрейма прибыльных фильмов\n",
    "s = data.query('profit > 0')\n",
    "\n",
    "# вывожу количество строк где в поле genres встречается определенное слово, исключаю строки с пропущенными значениями\n",
    "print(len(s.loc[data['genres'].str.contains(\"Drama\", na=False)]))\n",
    "print(len(s.loc[data['genres'].str.contains(\"Comedy\", na=False)]))\n",
    "print(len(s.loc[data['genres'].str.contains(\"Action\", na=False)]))\n",
    "print(len(s.loc[data['genres'].str.contains(\"Thriller\", na=False)]))\n",
    "print(len(s.loc[data['genres'].str.contains(\"Adventure\", na=False)]))"
   ]
  },
  {
   "cell_type": "code",
   "execution_count": 77,
   "metadata": {},
   "outputs": [],
   "source": [
    "answer_ls.append(1)"
   ]
  },
  {
   "cell_type": "markdown",
   "metadata": {},
   "source": [
    "# 13. Кто из режиссеров снял больше всего фильмов?\n",
    "Варианты ответов:\n",
    "1. Steven Spielberg\n",
    "2. Ridley Scott \n",
    "3. Steven Soderbergh\n",
    "4. Christopher Nolan\n",
    "5. Clint Eastwood"
   ]
  },
  {
   "cell_type": "code",
   "execution_count": 17,
   "metadata": {},
   "outputs": [
    {
     "name": "stdout",
     "output_type": "stream",
     "text": [
      "10\n",
      "12\n",
      "13\n",
      "8\n",
      "12\n"
     ]
    }
   ],
   "source": [
    "# вывожу количество строк где в поле director встречается определенное слово, исключаю строки с пропущенными значениями\n",
    "print(len(data.loc[data['director'].str.contains(\"Steven Spielberg\", na=False)]))\n",
    "print(len(data.loc[data['director'].str.contains(\"Ridley Scott\", na=False)]))\n",
    "print(len(data.loc[data['director'].str.contains(\"Steven Soderbergh\", na=False)]))\n",
    "print(len(data.loc[data['director'].str.contains(\"Christopher Nolan\", na=False)]))\n",
    "print(len(data.loc[data['director'].str.contains(\"Clint Eastwood\", na=False)]))"
   ]
  },
  {
   "cell_type": "code",
   "execution_count": 78,
   "metadata": {},
   "outputs": [],
   "source": [
    "answer_ls.append(3)"
   ]
  },
  {
   "cell_type": "markdown",
   "metadata": {},
   "source": [
    "# 14. Кто из режиссеров снял больше всего Прибыльных фильмов?\n",
    "Варианты ответов:\n",
    "1. Steven Soderbergh\n",
    "2. Clint Eastwood\n",
    "3. Steven Spielberg\n",
    "4. Ridley Scott\n",
    "5. Christopher Nolan"
   ]
  },
  {
   "cell_type": "code",
   "execution_count": 18,
   "metadata": {},
   "outputs": [
    {
     "name": "stdout",
     "output_type": "stream",
     "text": [
      "10\n",
      "10\n",
      "10\n",
      "12\n",
      "8\n"
     ]
    }
   ],
   "source": [
    "# создаю датафрейм с фильтрацией из основного датафрейма прибыльных фильмов\n",
    "s = data.query('profit > 0')\n",
    "\n",
    "# вывожу количество строк где в поле director встречается определенное слово, исключаю строки с пропущенными значениями\n",
    "print(len(s.loc[data['director'].str.contains(\"Steven Soderbergh\", na=False)]))\n",
    "print(len(s.loc[data['director'].str.contains(\"Clint Eastwood\", na=False)]))\n",
    "print(len(s.loc[data['director'].str.contains(\"Steven Spielberg\", na=False)]))\n",
    "print(len(s.loc[data['director'].str.contains(\"Ridley Scott\", na=False)]))\n",
    "print(len(s.loc[data['director'].str.contains(\"Christopher Nolan\", na=False)]))"
   ]
  },
  {
   "cell_type": "code",
   "execution_count": 79,
   "metadata": {},
   "outputs": [],
   "source": [
    "answer_ls.append(4)"
   ]
  },
  {
   "cell_type": "markdown",
   "metadata": {},
   "source": [
    "# 15. Кто из режиссеров принес больше всего прибыли?\n",
    "Варианты ответов:\n",
    "1. Steven Spielberg\n",
    "2. Christopher Nolan\n",
    "3. David Yates\n",
    "4. James Cameron\n",
    "5. Peter Jackson\n"
   ]
  },
  {
   "cell_type": "code",
   "execution_count": 24,
   "metadata": {},
   "outputs": [
    {
     "data": {
      "text/html": [
       "<div>\n",
       "<style scoped>\n",
       "    .dataframe tbody tr th:only-of-type {\n",
       "        vertical-align: middle;\n",
       "    }\n",
       "\n",
       "    .dataframe tbody tr th {\n",
       "        vertical-align: top;\n",
       "    }\n",
       "\n",
       "    .dataframe thead th {\n",
       "        text-align: right;\n",
       "    }\n",
       "</style>\n",
       "<table border=\"1\" class=\"dataframe\">\n",
       "  <thead>\n",
       "    <tr style=\"text-align: right;\">\n",
       "      <th></th>\n",
       "      <th>imdb_id</th>\n",
       "      <th>popularity</th>\n",
       "      <th>budget</th>\n",
       "      <th>revenue</th>\n",
       "      <th>original_title</th>\n",
       "      <th>cast</th>\n",
       "      <th>director</th>\n",
       "      <th>tagline</th>\n",
       "      <th>overview</th>\n",
       "      <th>runtime</th>\n",
       "      <th>genres</th>\n",
       "      <th>production_companies</th>\n",
       "      <th>release_date</th>\n",
       "      <th>vote_count</th>\n",
       "      <th>vote_average</th>\n",
       "      <th>release_year</th>\n",
       "      <th>profit</th>\n",
       "    </tr>\n",
       "  </thead>\n",
       "  <tbody>\n",
       "    <tr>\n",
       "      <th>239</th>\n",
       "      <td>tt0499549</td>\n",
       "      <td>9.432768</td>\n",
       "      <td>237000000</td>\n",
       "      <td>2781505847</td>\n",
       "      <td>Avatar</td>\n",
       "      <td>Sam Worthington|Zoe Saldana|Sigourney Weaver|S...</td>\n",
       "      <td>James Cameron</td>\n",
       "      <td>Enter the World of Pandora.</td>\n",
       "      <td>In the 22nd century, a paraplegic Marine is di...</td>\n",
       "      <td>162</td>\n",
       "      <td>Action|Adventure|Fantasy|Science Fiction</td>\n",
       "      <td>Ingenious Film Partners|Twentieth Century Fox ...</td>\n",
       "      <td>12/10/2009</td>\n",
       "      <td>8458</td>\n",
       "      <td>7.1</td>\n",
       "      <td>2009</td>\n",
       "      <td>2544505847</td>\n",
       "    </tr>\n",
       "  </tbody>\n",
       "</table>\n",
       "</div>"
      ],
      "text/plain": [
       "       imdb_id  popularity     budget     revenue original_title  \\\n",
       "239  tt0499549    9.432768  237000000  2781505847         Avatar   \n",
       "\n",
       "                                                  cast       director  \\\n",
       "239  Sam Worthington|Zoe Saldana|Sigourney Weaver|S...  James Cameron   \n",
       "\n",
       "                         tagline  \\\n",
       "239  Enter the World of Pandora.   \n",
       "\n",
       "                                              overview  runtime  \\\n",
       "239  In the 22nd century, a paraplegic Marine is di...      162   \n",
       "\n",
       "                                       genres  \\\n",
       "239  Action|Adventure|Fantasy|Science Fiction   \n",
       "\n",
       "                                  production_companies release_date  \\\n",
       "239  Ingenious Film Partners|Twentieth Century Fox ...   12/10/2009   \n",
       "\n",
       "     vote_count  vote_average  release_year      profit  \n",
       "239        8458           7.1          2009  2544505847  "
      ]
     },
     "execution_count": 24,
     "metadata": {},
     "output_type": "execute_result"
    }
   ],
   "source": [
    "#БОЛЬШЕ ВСЕГО ПРИБЫЛИ ЗА 1 ФИЛЬМ (нужно считать за весь датасет)\n",
    "\n",
    "# создаю датафрейм из основного с фильтром если в поле director встречается одно из значений списка\n",
    "s = data.query('director in [\"Steven Spielberg\",\"Christopher Nolan\",\"David Yates\",\"James Cameron\",\"Peter Jackson\"]')\n",
    "# отображаю самый прибыльные фильм из полученного списка\n",
    "s.loc[s['profit'] == s['profit'].max()]"
   ]
  },
  {
   "cell_type": "code",
   "execution_count": 18,
   "metadata": {},
   "outputs": [
    {
     "name": "stdout",
     "output_type": "stream",
     "text": [
      "Режисер Steven Spielberg принес - 2449700791\n",
      "Режисер Christopher Nolan принес - 3162548502\n",
      "Режисер David Yates принес - 3379295625\n",
      "Режисер James Cameron принес - 2548546718\n",
      "Режисер Peter Jackson принес - 5202593685\n"
     ]
    },
    {
     "data": {
      "text/html": [
       "<div>\n",
       "<style scoped>\n",
       "    .dataframe tbody tr th:only-of-type {\n",
       "        vertical-align: middle;\n",
       "    }\n",
       "\n",
       "    .dataframe tbody tr th {\n",
       "        vertical-align: top;\n",
       "    }\n",
       "\n",
       "    .dataframe thead th {\n",
       "        text-align: right;\n",
       "    }\n",
       "</style>\n",
       "<table border=\"1\" class=\"dataframe\">\n",
       "  <thead>\n",
       "    <tr style=\"text-align: right;\">\n",
       "      <th></th>\n",
       "      <th>Profit</th>\n",
       "    </tr>\n",
       "  </thead>\n",
       "  <tbody>\n",
       "    <tr>\n",
       "      <th>Peter Jackson</th>\n",
       "      <td>5202593685</td>\n",
       "    </tr>\n",
       "    <tr>\n",
       "      <th>David Yates</th>\n",
       "      <td>3379295625</td>\n",
       "    </tr>\n",
       "    <tr>\n",
       "      <th>Christopher Nolan</th>\n",
       "      <td>3162548502</td>\n",
       "    </tr>\n",
       "    <tr>\n",
       "      <th>James Cameron</th>\n",
       "      <td>2548546718</td>\n",
       "    </tr>\n",
       "    <tr>\n",
       "      <th>Steven Spielberg</th>\n",
       "      <td>2449700791</td>\n",
       "    </tr>\n",
       "  </tbody>\n",
       "</table>\n",
       "</div>"
      ],
      "text/plain": [
       "                       Profit\n",
       "Peter Jackson      5202593685\n",
       "David Yates        3379295625\n",
       "Christopher Nolan  3162548502\n",
       "James Cameron      2548546718\n",
       "Steven Spielberg   2449700791"
      ]
     },
     "metadata": {},
     "output_type": "display_data"
    }
   ],
   "source": [
    "#БОЛЬШЕ ВСЕГО ПРИБЫЛИ ЗА ВЕСЬ ДАТАСЕТ\n",
    "\n",
    "# список режисеров\n",
    "s = ['Steven Spielberg','Christopher Nolan','David Yates','James Cameron','Peter Jackson']\n",
    "\n",
    "# датафрейм для результатов доходов по каждому режисеру за все фильмы\n",
    "df = pd.DataFrame(columns = ['Profit'], index = [s])\n",
    "\n",
    "# функция вычисления всех доходов режисера по фильмам\n",
    "def dir_profit(x):\n",
    "    dir_films = data[data.director.str.contains(x, na=False)]\n",
    "    #display(act_films.head(2))\n",
    "    return dir_films['profit'].sum()\n",
    "\n",
    "# применение функции по каждому режисеру из списка и запись в датафрейм\n",
    "for i in s:\n",
    "    #print('Режисер', i, 'принес -', dir_profit(i))\n",
    "    print(f'Режисер {i} принес - {dir_profit(i)}')\n",
    "    df.loc[i] = dir_profit(i)\n",
    "\n",
    "# отображаем значения датафрейма с сортировкой по убыванию по полю Profit\n",
    "display(df.sort_values('Profit', ascending=False))"
   ]
  },
  {
   "cell_type": "code",
   "execution_count": 80,
   "metadata": {},
   "outputs": [],
   "source": [
    "answer_ls.append(5)"
   ]
  },
  {
   "cell_type": "markdown",
   "metadata": {},
   "source": [
    "# 16. Какой актер принес больше всего прибыли?\n",
    "Варианты ответов:\n",
    "1. Emma Watson\n",
    "2. Johnny Depp\n",
    "3. Michelle Rodriguez\n",
    "4. Orlando Bloom\n",
    "5. Rupert Grint"
   ]
  },
  {
   "cell_type": "code",
   "execution_count": 103,
   "metadata": {},
   "outputs": [
    {
     "name": "stdout",
     "output_type": "stream",
     "text": [
      "Актер Emma Watson принес(ла) - 6666245597\n",
      "Актер Johnny Depp принес(ла) - 4776417000\n",
      "Актер Michelle Rodriguez принес(ла) - 4608031235\n",
      "Актер Orlando Bloom принес(ла) - 5148578162\n",
      "Актер Rupert Grint принес(ла) - 6408638290\n"
     ]
    },
    {
     "data": {
      "text/html": [
       "<div>\n",
       "<style scoped>\n",
       "    .dataframe tbody tr th:only-of-type {\n",
       "        vertical-align: middle;\n",
       "    }\n",
       "\n",
       "    .dataframe tbody tr th {\n",
       "        vertical-align: top;\n",
       "    }\n",
       "\n",
       "    .dataframe thead th {\n",
       "        text-align: right;\n",
       "    }\n",
       "</style>\n",
       "<table border=\"1\" class=\"dataframe\">\n",
       "  <thead>\n",
       "    <tr style=\"text-align: right;\">\n",
       "      <th></th>\n",
       "      <th>Profit</th>\n",
       "    </tr>\n",
       "  </thead>\n",
       "  <tbody>\n",
       "    <tr>\n",
       "      <th>Emma Watson</th>\n",
       "      <td>6666245597</td>\n",
       "    </tr>\n",
       "    <tr>\n",
       "      <th>Rupert Grint</th>\n",
       "      <td>6408638290</td>\n",
       "    </tr>\n",
       "    <tr>\n",
       "      <th>Orlando Bloom</th>\n",
       "      <td>5148578162</td>\n",
       "    </tr>\n",
       "    <tr>\n",
       "      <th>Johnny Depp</th>\n",
       "      <td>4776417000</td>\n",
       "    </tr>\n",
       "    <tr>\n",
       "      <th>Michelle Rodriguez</th>\n",
       "      <td>4608031235</td>\n",
       "    </tr>\n",
       "  </tbody>\n",
       "</table>\n",
       "</div>"
      ],
      "text/plain": [
       "                        Profit\n",
       "Emma Watson         6666245597\n",
       "Rupert Grint        6408638290\n",
       "Orlando Bloom       5148578162\n",
       "Johnny Depp         4776417000\n",
       "Michelle Rodriguez  4608031235"
      ]
     },
     "metadata": {},
     "output_type": "display_data"
    }
   ],
   "source": [
    "# список акторов\n",
    "s = ['Emma Watson','Johnny Depp','Michelle Rodriguez','Orlando Bloom','Rupert Grint']\n",
    "\n",
    "# датафрейм для результатов доходов по каждому актеру за все фильмы с его участием \n",
    "df = pd.DataFrame(columns = ['Profit'], index = [s])\n",
    "\n",
    "# функция вычисления всех доходов актора по фильмам\n",
    "def act_profit(x):\n",
    "    act_films = data[data.cast.str.contains(x, na=False)]\n",
    "    #display(act_films.head(2))\n",
    "    return act_films['profit'].sum()\n",
    "\n",
    "# применение функции по каждому актеру из списка и запись в датафрейм\n",
    "for i in s:\n",
    "    #print('Актер', i, 'принес(ла) -', act_profit(i))\n",
    "    print(f'Актер {i} принес(ла) - {act_profit(i)}')\n",
    "    df.loc[i] = act_profit(i)\n",
    "\n",
    "# отображаем значения датафрейма с сортировкой по убыванию по полю Profit\n",
    "display(df.sort_values('Profit', ascending=False))"
   ]
  },
  {
   "cell_type": "code",
   "execution_count": 81,
   "metadata": {},
   "outputs": [],
   "source": [
    "answer_ls.append(1)"
   ]
  },
  {
   "cell_type": "markdown",
   "metadata": {},
   "source": [
    "# 17. Какой актер принес меньше всего прибыли в 2012 году?\n",
    "Варианты ответов:\n",
    "1. Nicolas Cage\n",
    "2. Danny Huston\n",
    "3. Kirsten Dunst\n",
    "4. Jim Sturgess\n",
    "5. Sami Gayle"
   ]
  },
  {
   "cell_type": "code",
   "execution_count": 107,
   "metadata": {},
   "outputs": [
    {
     "name": "stdout",
     "output_type": "stream",
     "text": [
      "Актер Nicolas Cage принес(ла) - -32893443\n",
      "Актер Danny Huston принес(ла) - -32893443\n",
      "Актер Kirsten Dunst принес(ла) - -68109207\n",
      "Актер Jim Sturgess принес(ла) - -23410657\n",
      "Актер Sami Gayle принес(ла) - -32893443\n"
     ]
    },
    {
     "data": {
      "text/html": [
       "<div>\n",
       "<style scoped>\n",
       "    .dataframe tbody tr th:only-of-type {\n",
       "        vertical-align: middle;\n",
       "    }\n",
       "\n",
       "    .dataframe tbody tr th {\n",
       "        vertical-align: top;\n",
       "    }\n",
       "\n",
       "    .dataframe thead th {\n",
       "        text-align: right;\n",
       "    }\n",
       "</style>\n",
       "<table border=\"1\" class=\"dataframe\">\n",
       "  <thead>\n",
       "    <tr style=\"text-align: right;\">\n",
       "      <th></th>\n",
       "      <th>Profit</th>\n",
       "    </tr>\n",
       "  </thead>\n",
       "  <tbody>\n",
       "    <tr>\n",
       "      <th>Kirsten Dunst</th>\n",
       "      <td>-68109207</td>\n",
       "    </tr>\n",
       "    <tr>\n",
       "      <th>Nicolas Cage</th>\n",
       "      <td>-32893443</td>\n",
       "    </tr>\n",
       "    <tr>\n",
       "      <th>Danny Huston</th>\n",
       "      <td>-32893443</td>\n",
       "    </tr>\n",
       "    <tr>\n",
       "      <th>Sami Gayle</th>\n",
       "      <td>-32893443</td>\n",
       "    </tr>\n",
       "    <tr>\n",
       "      <th>Jim Sturgess</th>\n",
       "      <td>-23410657</td>\n",
       "    </tr>\n",
       "  </tbody>\n",
       "</table>\n",
       "</div>"
      ],
      "text/plain": [
       "                  Profit\n",
       "Kirsten Dunst  -68109207\n",
       "Nicolas Cage   -32893443\n",
       "Danny Huston   -32893443\n",
       "Sami Gayle     -32893443\n",
       "Jim Sturgess   -23410657"
      ]
     },
     "metadata": {},
     "output_type": "display_data"
    }
   ],
   "source": [
    "#датафрейм с фильмами только за 2012 год\n",
    "films2012 = data.query('release_year == 2012')\n",
    "\n",
    "# список акторов\n",
    "s = ['Nicolas Cage','Danny Huston','Kirsten Dunst','Jim Sturgess','Sami Gayle']\n",
    "\n",
    "# датафрейм для результатов доходов по каждому актеру за все фильмы с его участием \n",
    "df = pd.DataFrame(columns = ['Profit'], index = [s])\n",
    "\n",
    "# функция вычисления всех доходов актора по фильмам\n",
    "def act_profit(x):\n",
    "    act_films = films2012[films2012.cast.str.contains(x, na=False)]\n",
    "    #display(act_films.head(2))\n",
    "    return act_films['profit'].sum()\n",
    "\n",
    "# применение функции по каждому актеру из списка и запись в датафрейм\n",
    "for i in s:\n",
    "    #print('Актер', i, 'принес(ла) -', act_profit(i))\n",
    "    print(f'Актер {i} принес(ла) - {act_profit(i)}')\n",
    "    df.loc[i] = act_profit(i)\n",
    "\n",
    "# отображаем значения датафрейма с сортировкой по возрастанию по полю Profit\n",
    "display(df.sort_values('Profit'))"
   ]
  },
  {
   "cell_type": "code",
   "execution_count": 82,
   "metadata": {},
   "outputs": [],
   "source": [
    "answer_ls.append(3)"
   ]
  },
  {
   "cell_type": "markdown",
   "metadata": {},
   "source": [
    "# 18. Какой актер снялся в большем количестве высокобюджетных фильмов? (в фильмах где бюджет выше среднего по данной выборке)\n",
    "Варианты ответов:\n",
    "1. Tom Cruise\n",
    "2. Mark Wahlberg \n",
    "3. Matt Damon\n",
    "4. Angelina Jolie\n",
    "5. Adam Sandler"
   ]
  },
  {
   "cell_type": "code",
   "execution_count": 23,
   "metadata": {},
   "outputs": [
    {
     "data": {
      "text/html": [
       "<div>\n",
       "<style scoped>\n",
       "    .dataframe tbody tr th:only-of-type {\n",
       "        vertical-align: middle;\n",
       "    }\n",
       "\n",
       "    .dataframe tbody tr th {\n",
       "        vertical-align: top;\n",
       "    }\n",
       "\n",
       "    .dataframe thead th {\n",
       "        text-align: right;\n",
       "    }\n",
       "</style>\n",
       "<table border=\"1\" class=\"dataframe\">\n",
       "  <thead>\n",
       "    <tr style=\"text-align: right;\">\n",
       "      <th></th>\n",
       "      <th>Count</th>\n",
       "    </tr>\n",
       "  </thead>\n",
       "  <tbody>\n",
       "    <tr>\n",
       "      <th>Matt Damon</th>\n",
       "      <td>18</td>\n",
       "    </tr>\n",
       "    <tr>\n",
       "      <th>Adam Sandler</th>\n",
       "      <td>17</td>\n",
       "    </tr>\n",
       "    <tr>\n",
       "      <th>Angelina Jolie</th>\n",
       "      <td>16</td>\n",
       "    </tr>\n",
       "    <tr>\n",
       "      <th>Tom Cruise</th>\n",
       "      <td>15</td>\n",
       "    </tr>\n",
       "    <tr>\n",
       "      <th>Mark Wahlberg</th>\n",
       "      <td>14</td>\n",
       "    </tr>\n",
       "  </tbody>\n",
       "</table>\n",
       "</div>"
      ],
      "text/plain": [
       "               Count\n",
       "Matt Damon        18\n",
       "Adam Sandler      17\n",
       "Angelina Jolie    16\n",
       "Tom Cruise        15\n",
       "Mark Wahlberg     14"
      ]
     },
     "metadata": {},
     "output_type": "display_data"
    }
   ],
   "source": [
    "#print('Cредний бюджет фильма:', data['budget'].mean())\n",
    "\n",
    "# список актеров\n",
    "lisf_act = ['Tom Cruise','Mark Wahlberg','Matt Damon','Angelina Jolie','Adam Sandler']\n",
    "\n",
    "#датафрейм с фильмами где бюджет выше среднего\n",
    "film_prof_mean = data.loc[data['budget'] > data['budget'].mean()]\n",
    "#display(film_prof_mean.head(2))\n",
    "\n",
    "# датафрейм для результатов количества фильмов с его участием по каждому актеру \n",
    "df = pd.DataFrame(columns = ['Count'], index = [lisf_act])\n",
    "#display(df)\n",
    "\n",
    "# вычисление количества фильмов по каждому актеру из полученного датафрейма и запись в датафрейм\n",
    "for i in lisf_act:\n",
    "    #print(len(film_prof_mean[film_prof_mean.cast.str.contains(i, na=False)]))\n",
    "    df.loc[i] = len(film_prof_mean[film_prof_mean.cast.str.contains(i, na=False)])\n",
    "\n",
    "# отображаем значения датафрейма с сортировкой по убыванию по полю Count\n",
    "display(df.sort_values('Count', ascending=False))"
   ]
  },
  {
   "cell_type": "code",
   "execution_count": 83,
   "metadata": {},
   "outputs": [],
   "source": [
    "answer_ls.append(3)"
   ]
  },
  {
   "cell_type": "markdown",
   "metadata": {},
   "source": [
    "# 19. В фильмах какого жанра больше всего снимался Nicolas Cage?  \n",
    "Варианты ответа:\n",
    "1. Drama\n",
    "2. Action\n",
    "3. Thriller\n",
    "4. Adventure\n",
    "5. Crime"
   ]
  },
  {
   "cell_type": "code",
   "execution_count": 135,
   "metadata": {},
   "outputs": [
    {
     "data": {
      "text/html": [
       "<div>\n",
       "<style scoped>\n",
       "    .dataframe tbody tr th:only-of-type {\n",
       "        vertical-align: middle;\n",
       "    }\n",
       "\n",
       "    .dataframe tbody tr th {\n",
       "        vertical-align: top;\n",
       "    }\n",
       "\n",
       "    .dataframe thead th {\n",
       "        text-align: right;\n",
       "    }\n",
       "</style>\n",
       "<table border=\"1\" class=\"dataframe\">\n",
       "  <thead>\n",
       "    <tr style=\"text-align: right;\">\n",
       "      <th></th>\n",
       "      <th>Count</th>\n",
       "    </tr>\n",
       "  </thead>\n",
       "  <tbody>\n",
       "    <tr>\n",
       "      <th>Action</th>\n",
       "      <td>17</td>\n",
       "    </tr>\n",
       "    <tr>\n",
       "      <th>Thriller</th>\n",
       "      <td>15</td>\n",
       "    </tr>\n",
       "    <tr>\n",
       "      <th>Drama</th>\n",
       "      <td>12</td>\n",
       "    </tr>\n",
       "    <tr>\n",
       "      <th>Crime</th>\n",
       "      <td>10</td>\n",
       "    </tr>\n",
       "    <tr>\n",
       "      <th>Adventure</th>\n",
       "      <td>7</td>\n",
       "    </tr>\n",
       "  </tbody>\n",
       "</table>\n",
       "</div>"
      ],
      "text/plain": [
       "          Count\n",
       "Action       17\n",
       "Thriller     15\n",
       "Drama        12\n",
       "Crime        10\n",
       "Adventure     7"
      ]
     },
     "metadata": {},
     "output_type": "display_data"
    }
   ],
   "source": [
    "# фильтрую из общего датафрейма фильму с участием Nicolas Cage\n",
    "Cage_films= data[data.cast.str.contains('Nicolas Cage', na=False)]\n",
    "#display(Cage_films.head(4))\n",
    "\n",
    "# лист с жанрами\n",
    "list_genres = ['Drama','Action','Thriller','Adventure','Crime']\n",
    "\n",
    "# датафрейм для результатов количества фильмов по каждому жанру из списка\n",
    "df = pd.DataFrame(columns = ['Count'], index = [list_genres])\n",
    "#display(df)\n",
    "\n",
    "# вычисление количества фильмов по каждому жанру из полученного датафрейма и запись в датафрейм\n",
    "for i in list_genres:\n",
    "    #print(len(data[data.cast.str.contains(i, na=False)]))\n",
    "    df.loc[i] = len(Cage_films[Cage_films.genres.str.contains(i, na=False)])\n",
    "\n",
    "# отображаем значения датафрейма с сортировкой по убыванию по полю Count\n",
    "display(df.sort_values('Count', ascending=False))"
   ]
  },
  {
   "cell_type": "code",
   "execution_count": 84,
   "metadata": {},
   "outputs": [],
   "source": [
    "answer_ls.append(2)"
   ]
  },
  {
   "cell_type": "markdown",
   "metadata": {},
   "source": [
    "# 20. Какая студия сняла больше всего фильмов?\n",
    "Варианты ответа:\n",
    "1. Universal Pictures (Universal)\n",
    "2. Paramount Pictures\n",
    "3. Columbia Pictures\n",
    "4. Warner Bros\n",
    "5. Twentieth Century Fox Film Corporation"
   ]
  },
  {
   "cell_type": "code",
   "execution_count": 38,
   "metadata": {},
   "outputs": [
    {
     "data": {
      "text/plain": [
       "176"
      ]
     },
     "metadata": {},
     "output_type": "display_data"
    },
    {
     "data": {
      "text/plain": [
       "122"
      ]
     },
     "metadata": {},
     "output_type": "display_data"
    },
    {
     "data": {
      "text/plain": [
       "117"
      ]
     },
     "metadata": {},
     "output_type": "display_data"
    },
    {
     "data": {
      "text/plain": [
       "168"
      ]
     },
     "metadata": {},
     "output_type": "display_data"
    },
    {
     "data": {
      "text/plain": [
       "109"
      ]
     },
     "metadata": {},
     "output_type": "display_data"
    }
   ],
   "source": [
    "data = pd.read_csv('data.csv')\n",
    "\n",
    "# ВАРИАНТ 1 с разделением студий\n",
    "\n",
    "# разделяю заголовки студий и вывожу их в отдельный датафрейм по имени\n",
    "prod_comp = (data.production_companies.str.split('|', expand=True).stack().to_frame(name='genre'))\n",
    "# подсчитываю повторяющиеся значения \n",
    "df2 = prod_comp['genre'].value_counts()\n",
    "#display(df2)\n",
    "\n",
    "#вывожу значения по студиям\n",
    "display(df2['Universal Pictures'] + df2['Universal'])\n",
    "display(df2['Paramount Pictures'])\n",
    "display(df2['Columbia Pictures'])\n",
    "display(df2['Warner Bros.'])\n",
    "display(df2['Twentieth Century Fox Film Corporation'])"
   ]
  },
  {
   "cell_type": "code",
   "execution_count": 8,
   "metadata": {},
   "outputs": [
    {
     "data": {
      "text/html": [
       "<div>\n",
       "<style scoped>\n",
       "    .dataframe tbody tr th:only-of-type {\n",
       "        vertical-align: middle;\n",
       "    }\n",
       "\n",
       "    .dataframe tbody tr th {\n",
       "        vertical-align: top;\n",
       "    }\n",
       "\n",
       "    .dataframe thead th {\n",
       "        text-align: right;\n",
       "    }\n",
       "</style>\n",
       "<table border=\"1\" class=\"dataframe\">\n",
       "  <thead>\n",
       "    <tr style=\"text-align: right;\">\n",
       "      <th></th>\n",
       "      <th>Count</th>\n",
       "    </tr>\n",
       "  </thead>\n",
       "  <tbody>\n",
       "    <tr>\n",
       "      <th>UP..</th>\n",
       "      <td>178</td>\n",
       "    </tr>\n",
       "    <tr>\n",
       "      <th>Warner Bros</th>\n",
       "      <td>168</td>\n",
       "    </tr>\n",
       "    <tr>\n",
       "      <th>Columbia Pictures</th>\n",
       "      <td>163</td>\n",
       "    </tr>\n",
       "    <tr>\n",
       "      <th>Paramount Pictures</th>\n",
       "      <td>122</td>\n",
       "    </tr>\n",
       "    <tr>\n",
       "      <th>Twentieth Century Fox Film Corporation</th>\n",
       "      <td>109</td>\n",
       "    </tr>\n",
       "  </tbody>\n",
       "</table>\n",
       "</div>"
      ],
      "text/plain": [
       "                                       Count\n",
       "UP..                                     178\n",
       "Warner Bros                              168\n",
       "Columbia Pictures                        163\n",
       "Paramount Pictures                       122\n",
       "Twentieth Century Fox Film Corporation   109"
      ]
     },
     "metadata": {},
     "output_type": "display_data"
    }
   ],
   "source": [
    "data = pd.read_csv('data.csv')\n",
    "\n",
    "# ВАРИАНТ 2 с заменой названий студий на уникальные (не рабочий вариант)\n",
    "\n",
    "#display(len(data[data.production_companies.str.contains('Warner Bros. Pictures', na=False)]))\n",
    "data.production_companies = data.production_companies.apply(lambda x: x.replace('Warner Bros. Pictures', 'WB.P') if type(x) == str else x)\n",
    "\n",
    "#display(len(data[data.production_companies.str.contains('Warner Bros. Animation', na=False)]))\n",
    "data.production_companies = data.production_companies.apply(lambda x: x.replace('Warner Bros. Animation', 'WB.A') if type(x) == str else x)\n",
    "\n",
    "#display(len(data[data.production_companies.str.contains('Warner Bros. Interactive Entertainment', na=False)]))\n",
    "data.production_companies = data.production_companies.apply(lambda x: x.replace('Warner Bros. Interactive Entertainment', 'WB.IE') if type(x) == str else x)\n",
    "\n",
    "#display(len(data[data.production_companies.str.contains('Warner Bros.', na=False)]))\n",
    "\n",
    "#display(len(data[data.production_companies.str.contains('Universal Animation Studios', na=False)]))\n",
    "data.production_companies = data.production_companies.apply(lambda x: x.replace('Universal Animation Studios', 'UAS.') if type(x) == str else x)\n",
    "\n",
    "#display(len(data[data.production_companies.str.contains('Universal CGI', na=False)]))\n",
    "data.production_companies = data.production_companies.apply(lambda x: x.replace('Universal CGI', 'UCGI.') if type(x) == str else x)\n",
    "\n",
    "#display(len(data[data.production_companies.str.contains('Universal Pictures International', na=False)]))\n",
    "data.production_companies = data.production_companies.apply(lambda x: x.replace('Universal Pictures International', 'UPI.') if type(x) == str else x)\n",
    "\n",
    "#display(len(data[data.production_companies.str.contains('Universal Cartoon Studios', na=False)]))\n",
    "data.production_companies = data.production_companies.apply(lambda x: x.replace('Universal Cartoon Studios', 'UCS.') if type(x) == str else x)\n",
    "\n",
    "#display(len(data[data.production_companies.str.contains('Universal Pictures Corporation', na=False)]))\n",
    "data.production_companies = data.production_companies.apply(lambda x: x.replace('Universal Pictures Corporation', 'UPI.') if type(x) == str else x)\n",
    "\n",
    "#display(len(data[data.production_companies.str.contains('Universal Studios', na=False)]))\n",
    "data.production_companies = data.production_companies.apply(lambda x: x.replace('Universal Studios', 'US..') if type(x) == str else x)\n",
    "\n",
    "#display(len(data[data.production_companies.str.contains('Universal Pictures', na=False)]))\n",
    "data.production_companies = data.production_companies.apply(lambda x: x.replace('Universal Pictures', 'UP..') if type(x) == str else x)\n",
    "\n",
    "#display(len(data[data.production_companies.str.contains('Universal', na=False)]))\n",
    "data.production_companies = data.production_companies.apply(lambda x: x.replace('Universal', 'UP..') if type(x) == str else x)\n",
    "\n",
    "#display(len(data[data.production_companies.str.contains('UP..', na=False)]))\n",
    "\n",
    "\n",
    "# лист со студиями\n",
    "list_stud = ['UP..','Paramount Pictures','Columbia Pictures','Warner Bros','Twentieth Century Fox Film Corporation']\n",
    "\n",
    "# датафрейм для результатов количества фильмов по каждомой студии из списка\n",
    "df = pd.DataFrame(columns = ['Count'], index = [list_stud])\n",
    "#display(df)\n",
    "\n",
    "# вычисление количества фильмов по каждой студии из общего датафрейма и запись в датафрейм\n",
    "for i in list_stud:\n",
    "    df.loc[i,'Count'] = len(data[data.production_companies.str.contains(i, na=False)])\n",
    "\n",
    "# отображаем значения датафрейма с сортировкой по убыванию по полю Count\n",
    "display(df.sort_values('Count', ascending=False))    "
   ]
  },
  {
   "cell_type": "code",
   "execution_count": 85,
   "metadata": {},
   "outputs": [],
   "source": [
    "answer_ls.append(1)"
   ]
  },
  {
   "cell_type": "markdown",
   "metadata": {},
   "source": [
    "# 21. Какая студия сняла больше всего фильмов в 2015 году?\n",
    "Варианты ответа:\n",
    "1. Universal Pictures\n",
    "2. Paramount Pictures\n",
    "3. Columbia Pictures\n",
    "4. Warner Bros\n",
    "5. Twentieth Century Fox Film Corporation"
   ]
  },
  {
   "cell_type": "code",
   "execution_count": 43,
   "metadata": {},
   "outputs": [
    {
     "data": {
      "text/plain": [
       "10"
      ]
     },
     "metadata": {},
     "output_type": "display_data"
    },
    {
     "data": {
      "text/plain": [
       "7"
      ]
     },
     "metadata": {},
     "output_type": "display_data"
    },
    {
     "data": {
      "text/plain": [
       "7"
      ]
     },
     "metadata": {},
     "output_type": "display_data"
    },
    {
     "data": {
      "text/plain": [
       "12"
      ]
     },
     "metadata": {},
     "output_type": "display_data"
    },
    {
     "data": {
      "text/plain": [
       "8"
      ]
     },
     "metadata": {},
     "output_type": "display_data"
    }
   ],
   "source": [
    "data = pd.read_csv('data.csv')\n",
    "\n",
    "#датафрейм с фильмами только за 2015 год\n",
    "films_2015 = data[data.release_year == 2015]\n",
    "# разделяю заголовки студий и вывожу их в отдельный датафрейм по имени\n",
    "prod_comp = (films_2015.production_companies.str.split('|', expand=True).stack().to_frame(name='genre'))\n",
    "# подсчитываю повторяющиеся значения\n",
    "df2 = prod_comp['genre'].value_counts()\n",
    "\n",
    "#вывожу значения по студиям\n",
    "display(df2['Universal Pictures'])\n",
    "display(df2['Paramount Pictures'])\n",
    "display(df2['Columbia Pictures'])\n",
    "display(df2['Warner Bros.'])\n",
    "display(df2['Twentieth Century Fox Film Corporation'])"
   ]
  },
  {
   "cell_type": "code",
   "execution_count": 86,
   "metadata": {},
   "outputs": [],
   "source": [
    "answer_ls.append(4)"
   ]
  },
  {
   "cell_type": "markdown",
   "metadata": {},
   "source": [
    "# 22. Какая студия заработала больше всего денег в жанре комедий за все время?\n",
    "Варианты ответа:\n",
    "1. Warner Bros\n",
    "2. Universal Pictures (Universal)\n",
    "3. Columbia Pictures\n",
    "4. Paramount Pictures\n",
    "5. Walt Disney"
   ]
  },
  {
   "cell_type": "code",
   "execution_count": 47,
   "metadata": {},
   "outputs": [
    {
     "data": {
      "text/plain": [
       "46"
      ]
     },
     "metadata": {},
     "output_type": "display_data"
    },
    {
     "data": {
      "text/plain": [
       "76"
      ]
     },
     "metadata": {},
     "output_type": "display_data"
    },
    {
     "data": {
      "text/plain": [
       "62"
      ]
     },
     "metadata": {},
     "output_type": "display_data"
    },
    {
     "data": {
      "text/plain": [
       "42"
      ]
     },
     "metadata": {},
     "output_type": "display_data"
    },
    {
     "data": {
      "text/plain": [
       "45"
      ]
     },
     "metadata": {},
     "output_type": "display_data"
    }
   ],
   "source": [
    "data = pd.read_csv('data.csv')\n",
    "\n",
    "#датафрейм с комедиями\n",
    "films_comedy = data[data.genres.str.contains('Comedy', na=False)]\n",
    "# разделяю заголовки студий и вывожу их в отдельный датафрейм по имени\n",
    "prod_comp = (films_comedy.production_companies.str.split('|', expand=True).stack().to_frame(name='genre'))\n",
    "# подсчитываю повторяющиеся значения\n",
    "df2 = prod_comp['genre'].value_counts()\n",
    "\n",
    "#вывожу значения по студиям\n",
    "display(df2['Warner Bros.'])\n",
    "display(df2['Universal Pictures'] + df2['Universal'])\n",
    "display(df2['Columbia Pictures'])\n",
    "display(df2['Paramount Pictures'])\n",
    "display(df2['Walt Disney Pictures'])"
   ]
  },
  {
   "cell_type": "code",
   "execution_count": 87,
   "metadata": {},
   "outputs": [],
   "source": [
    "answer_ls.append(2)"
   ]
  },
  {
   "cell_type": "markdown",
   "metadata": {},
   "source": [
    "# 23. Какая студия заработала больше всего денег в 2012 году?\n",
    "Варианты ответа:\n",
    "1. Universal Pictures (Universal)\n",
    "2. Warner Bros\n",
    "3. Columbia Pictures\n",
    "4. Paramount Pictures\n",
    "5. Lucasfilm"
   ]
  },
  {
   "cell_type": "code",
   "execution_count": 64,
   "metadata": {},
   "outputs": [
    {
     "name": "stdout",
     "output_type": "stream",
     "text": [
      "Студия UP.. принесла - 1981011579\n",
      "Студия Warner Bros принесла - 1258020056\n",
      "Студия Columbia Pictures принесла - 2501406608\n",
      "Студия Paramount Pictures принесла - 410726715\n",
      "Студия Lucasfilm принесла - -7634623\n"
     ]
    },
    {
     "data": {
      "text/html": [
       "<div>\n",
       "<style scoped>\n",
       "    .dataframe tbody tr th:only-of-type {\n",
       "        vertical-align: middle;\n",
       "    }\n",
       "\n",
       "    .dataframe tbody tr th {\n",
       "        vertical-align: top;\n",
       "    }\n",
       "\n",
       "    .dataframe thead th {\n",
       "        text-align: right;\n",
       "    }\n",
       "</style>\n",
       "<table border=\"1\" class=\"dataframe\">\n",
       "  <thead>\n",
       "    <tr style=\"text-align: right;\">\n",
       "      <th></th>\n",
       "      <th>Total_profit</th>\n",
       "    </tr>\n",
       "  </thead>\n",
       "  <tbody>\n",
       "    <tr>\n",
       "      <th>Columbia Pictures</th>\n",
       "      <td>2501406608</td>\n",
       "    </tr>\n",
       "    <tr>\n",
       "      <th>UP..</th>\n",
       "      <td>1981011579</td>\n",
       "    </tr>\n",
       "    <tr>\n",
       "      <th>Warner Bros</th>\n",
       "      <td>1258020056</td>\n",
       "    </tr>\n",
       "    <tr>\n",
       "      <th>Paramount Pictures</th>\n",
       "      <td>410726715</td>\n",
       "    </tr>\n",
       "    <tr>\n",
       "      <th>Lucasfilm</th>\n",
       "      <td>-7634623</td>\n",
       "    </tr>\n",
       "  </tbody>\n",
       "</table>\n",
       "</div>"
      ],
      "text/plain": [
       "                   Total_profit\n",
       "Columbia Pictures    2501406608\n",
       "UP..                 1981011579\n",
       "Warner Bros          1258020056\n",
       "Paramount Pictures    410726715\n",
       "Lucasfilm              -7634623"
      ]
     },
     "metadata": {},
     "output_type": "display_data"
    }
   ],
   "source": [
    "data = pd.read_csv('data.csv')\n",
    "\n",
    "# добавляю новую колонку profit с вычислением прибыли от фильма (profit = доход(revenue) - бюджет(budget))\n",
    "# построчно вычисляю и добавляю в исходный датафрейм\n",
    "data['profit'] = data.apply(lambda x: x['revenue']-x['budget'] if x['budget'] > 0 else 0, axis = 1)\n",
    "\n",
    "#display(len(data[data.production_companies.str.contains('Universal', na=False)]))\n",
    "#display(len(data[data.production_companies.str.contains('Universal Studios', na=False)]))\n",
    "#display(len(data[data.production_companies.str.contains('Universal Cartoon Studios', na=False)]))\n",
    "\n",
    "#display(len(data[data.production_companies.str.contains('Warner Bros. Pictures', na=False)]))\n",
    "data.production_companies = data.production_companies.apply(lambda x: x.replace('Warner Bros. Pictures', 'WB.P') if type(x) == str else x)\n",
    "\n",
    "#display(len(data[data.production_companies.str.contains('Warner Bros. Animation', na=False)]))\n",
    "data.production_companies = data.production_companies.apply(lambda x: x.replace('Warner Bros. Animation', 'WB.A') if type(x) == str else x)\n",
    "\n",
    "#display(len(data[data.production_companies.str.contains('Warner Bros. Interactive Entertainment', na=False)]))\n",
    "data.production_companies = data.production_companies.apply(lambda x: x.replace('Warner Bros. Interactive Entertainment', 'WB.IE') if type(x) == str else x)\n",
    "\n",
    "#display(len(data[data.production_companies.str.contains('Warner Bros.', na=False)]))\n",
    "\n",
    "#display(len(data[data.production_companies.str.contains('Universal Animation Studios', na=False)]))\n",
    "data.production_companies = data.production_companies.apply(lambda x: x.replace('Universal Animation Studios', 'UAS.') if type(x) == str else x)\n",
    "\n",
    "#display(len(data[data.production_companies.str.contains('Universal CGI', na=False)]))\n",
    "data.production_companies = data.production_companies.apply(lambda x: x.replace('Universal CGI', 'UCGI.') if type(x) == str else x)\n",
    "\n",
    "#display(len(data[data.production_companies.str.contains('Universal Pictures International', na=False)]))\n",
    "data.production_companies = data.production_companies.apply(lambda x: x.replace('Universal Pictures International', 'UPI.') if type(x) == str else x)\n",
    "\n",
    "#display(len(data[data.production_companies.str.contains('Universal Cartoon Studios', na=False)]))\n",
    "data.production_companies = data.production_companies.apply(lambda x: x.replace('Universal Cartoon Studios', 'UCS.') if type(x) == str else x)\n",
    "\n",
    "#display(len(data[data.production_companies.str.contains('Universal Pictures Corporation', na=False)]))\n",
    "data.production_companies = data.production_companies.apply(lambda x: x.replace('Universal Pictures Corporation', 'UPI.') if type(x) == str else x)\n",
    "\n",
    "#display(len(data[data.production_companies.str.contains('Universal Studios', na=False)]))\n",
    "data.production_companies = data.production_companies.apply(lambda x: x.replace('Universal Studios', 'US..') if type(x) == str else x)\n",
    "\n",
    "#display(len(data[data.production_companies.str.contains('Universal Pictures', na=False)]))\n",
    "data.production_companies = data.production_companies.apply(lambda x: x.replace('Universal Pictures', 'UP..') if type(x) == str else x)\n",
    "\n",
    "#display(len(data[data.production_companies.str.contains('Universal', na=False)]))\n",
    "data.production_companies = data.production_companies.apply(lambda x: x.replace('Universal', 'UP..') if type(x) == str else x)\n",
    "\n",
    "# датафрейм с фильмами только за 2012 год\n",
    "films2012 = data.query('release_year == 2012')\n",
    "\n",
    "# лист со студиями\n",
    "list_stud = ['UP..','Warner Bros','Columbia Pictures','Paramount Pictures','Lucasfilm']\n",
    "\n",
    "# датафрейм для результатов заработка по каждомой студии из списка\n",
    "df = pd.DataFrame(columns = ['Total_profit'], index = [list_stud])\n",
    "#display(df)\n",
    "\n",
    "# функция вычисления всех доходов студии по фильмам\n",
    "def stud_profit(x):\n",
    "    stud_profit = films2012[films2012.production_companies.str.contains(x, na=False)]\n",
    "    #display(stud_profit.head(2))\n",
    "    return stud_profit['profit'].sum()\n",
    "\n",
    "# применение функции по каждой студии из списка и запись в датафрейм\n",
    "for i in list_stud:\n",
    "    #print('Студия', i, 'принесла -', stud_profit(i))\n",
    "    print(f'Студия {i} принесла - {stud_profit(i)}')\n",
    "    df.loc[i] = stud_profit(i)\n",
    "\n",
    "# отображаем значения датафрейма с сортировкой по убыванию по полю Total_profit\n",
    "display(df.sort_values('Total_profit', ascending=False))"
   ]
  },
  {
   "cell_type": "code",
   "execution_count": 88,
   "metadata": {},
   "outputs": [],
   "source": [
    "answer_ls.append(3)"
   ]
  },
  {
   "cell_type": "markdown",
   "metadata": {},
   "source": [
    "# 24. Самый убыточный фильм от Paramount Pictures\n",
    "Варианты ответа:\n",
    "\n",
    "1. K-19: The Widowmaker tt0267626\n",
    "2. Next tt0435705\n",
    "3. Twisted tt0315297\n",
    "4. The Love Guru tt0811138\n",
    "5. The Fighter tt0964517"
   ]
  },
  {
   "cell_type": "code",
   "execution_count": 23,
   "metadata": {},
   "outputs": [
    {
     "data": {
      "text/html": [
       "<div>\n",
       "<style scoped>\n",
       "    .dataframe tbody tr th:only-of-type {\n",
       "        vertical-align: middle;\n",
       "    }\n",
       "\n",
       "    .dataframe tbody tr th {\n",
       "        vertical-align: top;\n",
       "    }\n",
       "\n",
       "    .dataframe thead th {\n",
       "        text-align: right;\n",
       "    }\n",
       "</style>\n",
       "<table border=\"1\" class=\"dataframe\">\n",
       "  <thead>\n",
       "    <tr style=\"text-align: right;\">\n",
       "      <th></th>\n",
       "      <th>imdb_id</th>\n",
       "      <th>popularity</th>\n",
       "      <th>budget</th>\n",
       "      <th>revenue</th>\n",
       "      <th>original_title</th>\n",
       "      <th>cast</th>\n",
       "      <th>director</th>\n",
       "      <th>tagline</th>\n",
       "      <th>overview</th>\n",
       "      <th>runtime</th>\n",
       "      <th>genres</th>\n",
       "      <th>production_companies</th>\n",
       "      <th>release_date</th>\n",
       "      <th>vote_count</th>\n",
       "      <th>vote_average</th>\n",
       "      <th>release_year</th>\n",
       "      <th>profit</th>\n",
       "    </tr>\n",
       "  </thead>\n",
       "  <tbody>\n",
       "    <tr>\n",
       "      <th>926</th>\n",
       "      <td>tt0267626</td>\n",
       "      <td>0.72233</td>\n",
       "      <td>100000000</td>\n",
       "      <td>35168966</td>\n",
       "      <td>K-19: The Widowmaker</td>\n",
       "      <td>Harrison Ford|Liam Neeson|Peter Sarsgaard|Joss...</td>\n",
       "      <td>Kathryn Bigelow</td>\n",
       "      <td>Fate has found its hero.</td>\n",
       "      <td>When Russia's first nuclear submarine malfunct...</td>\n",
       "      <td>138</td>\n",
       "      <td>Thriller|Drama|History</td>\n",
       "      <td>Paramount Pictures|Intermedia Films|National G...</td>\n",
       "      <td>7/19/2002</td>\n",
       "      <td>146</td>\n",
       "      <td>6.0</td>\n",
       "      <td>2002</td>\n",
       "      <td>-64831034</td>\n",
       "    </tr>\n",
       "  </tbody>\n",
       "</table>\n",
       "</div>"
      ],
      "text/plain": [
       "       imdb_id  popularity     budget   revenue        original_title  \\\n",
       "926  tt0267626     0.72233  100000000  35168966  K-19: The Widowmaker   \n",
       "\n",
       "                                                  cast         director  \\\n",
       "926  Harrison Ford|Liam Neeson|Peter Sarsgaard|Joss...  Kathryn Bigelow   \n",
       "\n",
       "                      tagline  \\\n",
       "926  Fate has found its hero.   \n",
       "\n",
       "                                              overview  runtime  \\\n",
       "926  When Russia's first nuclear submarine malfunct...      138   \n",
       "\n",
       "                     genres  \\\n",
       "926  Thriller|Drama|History   \n",
       "\n",
       "                                  production_companies release_date  \\\n",
       "926  Paramount Pictures|Intermedia Films|National G...    7/19/2002   \n",
       "\n",
       "     vote_count  vote_average  release_year    profit  \n",
       "926         146           6.0          2002 -64831034  "
      ]
     },
     "metadata": {},
     "output_type": "display_data"
    }
   ],
   "source": [
    "# датафрейм с фильмами только от Paramount Pictures\n",
    "Paramount_film = data[data.production_companies.str.contains('Paramount Pictures', na=False)]\n",
    "#display(Paramount_film)\n",
    "\n",
    "display(Paramount_film.loc[Paramount_film['profit'] == Paramount_film['profit'].min()])\n"
   ]
  },
  {
   "cell_type": "code",
   "execution_count": 89,
   "metadata": {},
   "outputs": [],
   "source": [
    "answer_ls.append(1)"
   ]
  },
  {
   "cell_type": "markdown",
   "metadata": {},
   "source": [
    "# 25. Какой Самый прибыльный год (заработали больше всего)?\n",
    "Варианты ответа:\n",
    "1. 2014\n",
    "2. 2008\n",
    "3. 2012\n",
    "4. 2002\n",
    "5. 2015"
   ]
  },
  {
   "cell_type": "code",
   "execution_count": 31,
   "metadata": {},
   "outputs": [
    {
     "data": {
      "text/html": [
       "<div>\n",
       "<style scoped>\n",
       "    .dataframe tbody tr th:only-of-type {\n",
       "        vertical-align: middle;\n",
       "    }\n",
       "\n",
       "    .dataframe tbody tr th {\n",
       "        vertical-align: top;\n",
       "    }\n",
       "\n",
       "    .dataframe thead th {\n",
       "        text-align: right;\n",
       "    }\n",
       "</style>\n",
       "<table border=\"1\" class=\"dataframe\">\n",
       "  <thead>\n",
       "    <tr style=\"text-align: right;\">\n",
       "      <th></th>\n",
       "      <th>popularity</th>\n",
       "      <th>budget</th>\n",
       "      <th>revenue</th>\n",
       "      <th>runtime</th>\n",
       "      <th>vote_count</th>\n",
       "      <th>vote_average</th>\n",
       "      <th>profit</th>\n",
       "    </tr>\n",
       "    <tr>\n",
       "      <th>release_year</th>\n",
       "      <th></th>\n",
       "      <th></th>\n",
       "      <th></th>\n",
       "      <th></th>\n",
       "      <th></th>\n",
       "      <th></th>\n",
       "      <th></th>\n",
       "    </tr>\n",
       "  </thead>\n",
       "  <tbody>\n",
       "    <tr>\n",
       "      <th>2015</th>\n",
       "      <td>412.757717</td>\n",
       "      <td>6780630004</td>\n",
       "      <td>25449202382</td>\n",
       "      <td>13355</td>\n",
       "      <td>143377</td>\n",
       "      <td>755.2</td>\n",
       "      <td>18668572378</td>\n",
       "    </tr>\n",
       "    <tr>\n",
       "      <th>2014</th>\n",
       "      <td>374.517350</td>\n",
       "      <td>7008050000</td>\n",
       "      <td>23405862953</td>\n",
       "      <td>13444</td>\n",
       "      <td>155491</td>\n",
       "      <td>774.5</td>\n",
       "      <td>16397812953</td>\n",
       "    </tr>\n",
       "    <tr>\n",
       "      <th>2012</th>\n",
       "      <td>194.340559</td>\n",
       "      <td>7002000000</td>\n",
       "      <td>23079001687</td>\n",
       "      <td>12145</td>\n",
       "      <td>150430</td>\n",
       "      <td>682.1</td>\n",
       "      <td>16077001687</td>\n",
       "    </tr>\n",
       "    <tr>\n",
       "      <th>2008</th>\n",
       "      <td>158.907759</td>\n",
       "      <td>6588900000</td>\n",
       "      <td>18252781990</td>\n",
       "      <td>12979</td>\n",
       "      <td>84574</td>\n",
       "      <td>731.1</td>\n",
       "      <td>11663881990</td>\n",
       "    </tr>\n",
       "    <tr>\n",
       "      <th>2002</th>\n",
       "      <td>127.017597</td>\n",
       "      <td>5134000000</td>\n",
       "      <td>14136361487</td>\n",
       "      <td>11528</td>\n",
       "      <td>54743</td>\n",
       "      <td>653.1</td>\n",
       "      <td>9002361487</td>\n",
       "    </tr>\n",
       "  </tbody>\n",
       "</table>\n",
       "</div>"
      ],
      "text/plain": [
       "              popularity      budget      revenue  runtime  vote_count  \\\n",
       "release_year                                                             \n",
       "2015          412.757717  6780630004  25449202382    13355      143377   \n",
       "2014          374.517350  7008050000  23405862953    13444      155491   \n",
       "2012          194.340559  7002000000  23079001687    12145      150430   \n",
       "2008          158.907759  6588900000  18252781990    12979       84574   \n",
       "2002          127.017597  5134000000  14136361487    11528       54743   \n",
       "\n",
       "              vote_average       profit  \n",
       "release_year                             \n",
       "2015                 755.2  18668572378  \n",
       "2014                 774.5  16397812953  \n",
       "2012                 682.1  16077001687  \n",
       "2008                 731.1  11663881990  \n",
       "2002                 653.1   9002361487  "
      ]
     },
     "metadata": {},
     "output_type": "display_data"
    }
   ],
   "source": [
    "# датафрейм с фильмами только за 2002,2008,2012,2014,2015 год\n",
    "films = data.query('release_year in [2002, 2008, 2012, 2014, 2015]')\n",
    "#display(films)\n",
    "\n",
    "# создаю датафрейм с группировкой по годам, суммируя значения колонок\n",
    "grouped_year = films.groupby(['release_year']).sum()\n",
    "\n",
    "# отображаю полученный датафрейм с сортировкой по убыванию\n",
    "display(grouped_year.sort_values('profit', ascending=False))"
   ]
  },
  {
   "cell_type": "code",
   "execution_count": 90,
   "metadata": {},
   "outputs": [],
   "source": [
    "answer_ls.append(5)"
   ]
  },
  {
   "cell_type": "markdown",
   "metadata": {},
   "source": [
    "# 26. Какой Самый прибыльный год для студии Warner Bros?\n",
    "Варианты ответа:\n",
    "1. 2014\n",
    "2. 2008\n",
    "3. 2012\n",
    "4. 2010\n",
    "5. 2015"
   ]
  },
  {
   "cell_type": "code",
   "execution_count": 27,
   "metadata": {},
   "outputs": [
    {
     "data": {
      "text/html": [
       "<div>\n",
       "<style scoped>\n",
       "    .dataframe tbody tr th:only-of-type {\n",
       "        vertical-align: middle;\n",
       "    }\n",
       "\n",
       "    .dataframe tbody tr th {\n",
       "        vertical-align: top;\n",
       "    }\n",
       "\n",
       "    .dataframe thead th {\n",
       "        text-align: right;\n",
       "    }\n",
       "</style>\n",
       "<table border=\"1\" class=\"dataframe\">\n",
       "  <thead>\n",
       "    <tr style=\"text-align: right;\">\n",
       "      <th></th>\n",
       "      <th>popularity</th>\n",
       "      <th>budget</th>\n",
       "      <th>revenue</th>\n",
       "      <th>runtime</th>\n",
       "      <th>vote_count</th>\n",
       "      <th>vote_average</th>\n",
       "      <th>profit</th>\n",
       "      <th>CountCharactersName</th>\n",
       "      <th>CountWordName</th>\n",
       "    </tr>\n",
       "    <tr>\n",
       "      <th>release_year</th>\n",
       "      <th></th>\n",
       "      <th></th>\n",
       "      <th></th>\n",
       "      <th></th>\n",
       "      <th></th>\n",
       "      <th></th>\n",
       "      <th></th>\n",
       "      <th></th>\n",
       "      <th></th>\n",
       "    </tr>\n",
       "  </thead>\n",
       "  <tbody>\n",
       "    <tr>\n",
       "      <th>2014</th>\n",
       "      <td>63.903623</td>\n",
       "      <td>947600000</td>\n",
       "      <td>3243064519</td>\n",
       "      <td>1576</td>\n",
       "      <td>24855</td>\n",
       "      <td>88.9</td>\n",
       "      <td>2295464519</td>\n",
       "      <td>176</td>\n",
       "      <td>32</td>\n",
       "    </tr>\n",
       "    <tr>\n",
       "      <th>2008</th>\n",
       "      <td>23.986384</td>\n",
       "      <td>916000000</td>\n",
       "      <td>3050595031</td>\n",
       "      <td>1366</td>\n",
       "      <td>17455</td>\n",
       "      <td>72.0</td>\n",
       "      <td>2134595031</td>\n",
       "      <td>149</td>\n",
       "      <td>27</td>\n",
       "    </tr>\n",
       "    <tr>\n",
       "      <th>2010</th>\n",
       "      <td>26.441327</td>\n",
       "      <td>1034000000</td>\n",
       "      <td>3008712985</td>\n",
       "      <td>1421</td>\n",
       "      <td>20286</td>\n",
       "      <td>79.6</td>\n",
       "      <td>1974712985</td>\n",
       "      <td>201</td>\n",
       "      <td>38</td>\n",
       "    </tr>\n",
       "    <tr>\n",
       "      <th>2012</th>\n",
       "      <td>12.593044</td>\n",
       "      <td>611500000</td>\n",
       "      <td>1869520056</td>\n",
       "      <td>579</td>\n",
       "      <td>11729</td>\n",
       "      <td>30.0</td>\n",
       "      <td>1258020056</td>\n",
       "      <td>70</td>\n",
       "      <td>13</td>\n",
       "    </tr>\n",
       "    <tr>\n",
       "      <th>2015</th>\n",
       "      <td>30.133961</td>\n",
       "      <td>820800003</td>\n",
       "      <td>1691168351</td>\n",
       "      <td>1358</td>\n",
       "      <td>11574</td>\n",
       "      <td>75.9</td>\n",
       "      <td>870368348</td>\n",
       "      <td>137</td>\n",
       "      <td>27</td>\n",
       "    </tr>\n",
       "  </tbody>\n",
       "</table>\n",
       "</div>"
      ],
      "text/plain": [
       "              popularity      budget     revenue  runtime  vote_count  \\\n",
       "release_year                                                            \n",
       "2014           63.903623   947600000  3243064519     1576       24855   \n",
       "2008           23.986384   916000000  3050595031     1366       17455   \n",
       "2010           26.441327  1034000000  3008712985     1421       20286   \n",
       "2012           12.593044   611500000  1869520056      579       11729   \n",
       "2015           30.133961   820800003  1691168351     1358       11574   \n",
       "\n",
       "              vote_average      profit  CountCharactersName  CountWordName  \n",
       "release_year                                                                \n",
       "2014                  88.9  2295464519                  176             32  \n",
       "2008                  72.0  2134595031                  149             27  \n",
       "2010                  79.6  1974712985                  201             38  \n",
       "2012                  30.0  1258020056                   70             13  \n",
       "2015                  75.9   870368348                  137             27  "
      ]
     },
     "metadata": {},
     "output_type": "display_data"
    }
   ],
   "source": [
    "# датафрейм с фильмами Warner Bros только за 2008, 2010, 2012, 2014, 2015 год\n",
    "films = data.query('release_year in [2008, 2010, 2012, 2014, 2015]')\n",
    "#display(films)\n",
    "\n",
    "# датафрейм с фильмами только от Warner Bros\n",
    "Warner_film = films[films.production_companies.str.contains('Warner Bros', na=False)]\n",
    "\n",
    "# создаю датафрейм с группировкой по годам, суммируя значения колонок\n",
    "grouped_year = Warner_film.groupby(['release_year']).sum()\n",
    "\n",
    "# отображаю полученный датафрейм с сортировкой по убыванию\n",
    "display(grouped_year.sort_values('profit', ascending=False))"
   ]
  },
  {
   "cell_type": "code",
   "execution_count": 91,
   "metadata": {},
   "outputs": [],
   "source": [
    "answer_ls.append(1)"
   ]
  },
  {
   "cell_type": "markdown",
   "metadata": {},
   "source": [
    "# 27. В каком месяце за все годы суммарно вышло больше всего фильмов?\n",
    "Варианты ответа:\n",
    "1. Январь\n",
    "2. Июнь\n",
    "3. Декабрь\n",
    "4. Сентябрь\n",
    "5. Май"
   ]
  },
  {
   "cell_type": "code",
   "execution_count": 66,
   "metadata": {},
   "outputs": [
    {
     "data": {
      "text/html": [
       "<div>\n",
       "<style scoped>\n",
       "    .dataframe tbody tr th:only-of-type {\n",
       "        vertical-align: middle;\n",
       "    }\n",
       "\n",
       "    .dataframe tbody tr th {\n",
       "        vertical-align: top;\n",
       "    }\n",
       "\n",
       "    .dataframe thead th {\n",
       "        text-align: right;\n",
       "    }\n",
       "</style>\n",
       "<table border=\"1\" class=\"dataframe\">\n",
       "  <thead>\n",
       "    <tr style=\"text-align: right;\">\n",
       "      <th></th>\n",
       "      <th>Count</th>\n",
       "    </tr>\n",
       "  </thead>\n",
       "  <tbody>\n",
       "    <tr>\n",
       "      <th>9</th>\n",
       "      <td>227</td>\n",
       "    </tr>\n",
       "    <tr>\n",
       "      <th>12</th>\n",
       "      <td>191</td>\n",
       "    </tr>\n",
       "    <tr>\n",
       "      <th>4</th>\n",
       "      <td>149</td>\n",
       "    </tr>\n",
       "    <tr>\n",
       "      <th>6</th>\n",
       "      <td>147</td>\n",
       "    </tr>\n",
       "    <tr>\n",
       "      <th>1</th>\n",
       "      <td>110</td>\n",
       "    </tr>\n",
       "  </tbody>\n",
       "</table>\n",
       "</div>"
      ],
      "text/plain": [
       "   Count\n",
       "9    227\n",
       "12   191\n",
       "4    149\n",
       "6    147\n",
       "1    110"
      ]
     },
     "metadata": {},
     "output_type": "display_data"
    }
   ],
   "source": [
    "#display(data.head(1))\n",
    "\n",
    "# список месяцев (порядковый номер)\n",
    "month = [1,6,12,9,4]\n",
    "\n",
    "# датафрейм для результатов вычисления количества фильмов в месяце\n",
    "df = pd.DataFrame(columns = ['Count'], index = [month])\n",
    "\n",
    "#Преобразование в формат даты год-месяц-день\n",
    "data['release_date'] = pd.to_datetime(data['release_date'])\n",
    "\n",
    "# отображаю все фильмы за январь\n",
    "#display(data.loc[data['release_date'].dt.month == 1])\n",
    "\n",
    "# вычисление количества фильмов по каждому месяцу из списка и запись их в датафрем\n",
    "for i in month:\n",
    "    df.loc[i] = len(data.loc[data['release_date'].dt.month == i])\n",
    "\n",
    "# отображаю итоговый датафрем с сортировкой по убыванию\n",
    "display(df.sort_values('Count', ascending=False))"
   ]
  },
  {
   "cell_type": "code",
   "execution_count": 92,
   "metadata": {},
   "outputs": [],
   "source": [
    "answer_ls.append(4)"
   ]
  },
  {
   "cell_type": "markdown",
   "metadata": {},
   "source": [
    "# 28. Сколько суммарно вышло фильмов летом? (за июнь, июль, август)\n",
    "Варианты ответа:\n",
    "1. 345\n",
    "2. 450\n",
    "3. 478\n",
    "4. 523\n",
    "5. 381"
   ]
  },
  {
   "cell_type": "code",
   "execution_count": 67,
   "metadata": {},
   "outputs": [
    {
     "data": {
      "text/plain": [
       "450"
      ]
     },
     "metadata": {},
     "output_type": "display_data"
    }
   ],
   "source": [
    "# количество фильмов за июнь, июль, август\n",
    "display(len(data.loc[data['release_date'].dt.month == 6]) + \n",
    "       len(data.loc[data['release_date'].dt.month == 7]) + \n",
    "       len(data.loc[data['release_date'].dt.month == 8]))"
   ]
  },
  {
   "cell_type": "code",
   "execution_count": 93,
   "metadata": {},
   "outputs": [],
   "source": [
    "answer_ls.append(2)"
   ]
  },
  {
   "cell_type": "markdown",
   "metadata": {},
   "source": [
    "# 29. Какой режисер выпускает (суммарно по годам) больше всего фильмов зимой?\n",
    "Варианты ответов:\n",
    "1. Steven Soderbergh\n",
    "2. Christopher Nolan\n",
    "3. Clint Eastwood\n",
    "4. Ridley Scott\n",
    "5. Peter Jackson"
   ]
  },
  {
   "cell_type": "code",
   "execution_count": 100,
   "metadata": {},
   "outputs": [
    {
     "name": "stdout",
     "output_type": "stream",
     "text": [
      "У режисера Steven Spielberg было 3 зимних фильмов\n",
      "У режисера Christopher Nolan было 0 зимних фильмов\n",
      "У режисера Clint Eastwood было 6 зимних фильмов\n",
      "У режисера Ridley Scott было 3 зимних фильмов\n",
      "У режисера Peter Jackson было 7 зимних фильмов\n"
     ]
    },
    {
     "data": {
      "text/html": [
       "<div>\n",
       "<style scoped>\n",
       "    .dataframe tbody tr th:only-of-type {\n",
       "        vertical-align: middle;\n",
       "    }\n",
       "\n",
       "    .dataframe tbody tr th {\n",
       "        vertical-align: top;\n",
       "    }\n",
       "\n",
       "    .dataframe thead th {\n",
       "        text-align: right;\n",
       "    }\n",
       "</style>\n",
       "<table border=\"1\" class=\"dataframe\">\n",
       "  <thead>\n",
       "    <tr style=\"text-align: right;\">\n",
       "      <th></th>\n",
       "      <th>Count</th>\n",
       "    </tr>\n",
       "  </thead>\n",
       "  <tbody>\n",
       "    <tr>\n",
       "      <th>Peter Jackson</th>\n",
       "      <td>7</td>\n",
       "    </tr>\n",
       "    <tr>\n",
       "      <th>Clint Eastwood</th>\n",
       "      <td>6</td>\n",
       "    </tr>\n",
       "    <tr>\n",
       "      <th>Steven Spielberg</th>\n",
       "      <td>3</td>\n",
       "    </tr>\n",
       "    <tr>\n",
       "      <th>Ridley Scott</th>\n",
       "      <td>3</td>\n",
       "    </tr>\n",
       "    <tr>\n",
       "      <th>Christopher Nolan</th>\n",
       "      <td>0</td>\n",
       "    </tr>\n",
       "  </tbody>\n",
       "</table>\n",
       "</div>"
      ],
      "text/plain": [
       "                  Count\n",
       "Peter Jackson         7\n",
       "Clint Eastwood        6\n",
       "Steven Spielberg      3\n",
       "Ridley Scott          3\n",
       "Christopher Nolan     0"
      ]
     },
     "metadata": {},
     "output_type": "display_data"
    }
   ],
   "source": [
    "#display(data.head(1))\n",
    "\n",
    "# список режисеров\n",
    "directors = [\"Steven Spielberg\",\"Christopher Nolan\",\"Clint Eastwood\",\"Ridley Scott\",\"Peter Jackson\"]\n",
    "\n",
    "# датафрейм для результатов суммирования количества фильмов замой по каждому режисеру\n",
    "df = pd.DataFrame(columns = ['Count'], index = [directors])\n",
    "\n",
    "# функция вычисления всех зимних фильмов режисера\n",
    "def dir_film_count(x):\n",
    "    dir_films = data[data.director.str.contains(x, na=False)]\n",
    "    #display(dir_films)\n",
    "    return len(dir_films.loc[dir_films['release_date'].dt.month == 12])+len(dir_films.loc[dir_films['release_date'].dt.month == 1])+len(dir_films.loc[dir_films['release_date'].dt.month == 2])\n",
    "\n",
    "# применение функции по каждому режисеру из списка и запись в датафрейм\n",
    "for i in directors:\n",
    "    print(f'У режисера {i} было {dir_film_count(i)} зимних фильмов')\n",
    "    df.loc[i] = dir_film_count(i)\n",
    "\n",
    "# отображаю итоговый датафрем с сортировкой по убыванию\n",
    "display(df.sort_values('Count', ascending=False))"
   ]
  },
  {
   "cell_type": "code",
   "execution_count": 94,
   "metadata": {},
   "outputs": [],
   "source": [
    "answer_ls.append(5)"
   ]
  },
  {
   "cell_type": "markdown",
   "metadata": {},
   "source": [
    "# 30. Какой месяц чаще всего по годам самый прибыльный?\n",
    "\n",
    "Почему нужно считать по годам, а не просто взять самый прибыльный месяц за весь период? Киноиндустрия активно развивается, прибыль компаний растет с каждым годом (например, в 2014 г. индустрия заработала в 2 раза больше, чем в 2004). Поэтому прибыльность более поздних месяцев будет значительно перевешивать предыдущие, что может привести к искажению выводов.\n",
    "\n",
    "Варианты ответа:\n",
    "1. Январь\n",
    "2. Июнь\n",
    "3. Декабрь\n",
    "4. Сентябрь\n",
    "5. Май"
   ]
  },
  {
   "cell_type": "code",
   "execution_count": 127,
   "metadata": {},
   "outputs": [
    {
     "name": "stdout",
     "output_type": "stream",
     "text": [
      "в месяце 1 прибыль составила 5396885454\n",
      "в месяце 6 прибыль составила 27551262500\n",
      "в месяце 12 прибыль составила 26563071474\n",
      "в месяце 9 прибыль составила 10878921041\n",
      "в месяце 4 прибыль составила 12876005537\n"
     ]
    },
    {
     "data": {
      "text/html": [
       "<div>\n",
       "<style scoped>\n",
       "    .dataframe tbody tr th:only-of-type {\n",
       "        vertical-align: middle;\n",
       "    }\n",
       "\n",
       "    .dataframe tbody tr th {\n",
       "        vertical-align: top;\n",
       "    }\n",
       "\n",
       "    .dataframe thead th {\n",
       "        text-align: right;\n",
       "    }\n",
       "</style>\n",
       "<table border=\"1\" class=\"dataframe\">\n",
       "  <thead>\n",
       "    <tr style=\"text-align: right;\">\n",
       "      <th></th>\n",
       "      <th>Profit</th>\n",
       "    </tr>\n",
       "  </thead>\n",
       "  <tbody>\n",
       "    <tr>\n",
       "      <th>6</th>\n",
       "      <td>27551262500</td>\n",
       "    </tr>\n",
       "    <tr>\n",
       "      <th>12</th>\n",
       "      <td>26563071474</td>\n",
       "    </tr>\n",
       "    <tr>\n",
       "      <th>4</th>\n",
       "      <td>12876005537</td>\n",
       "    </tr>\n",
       "    <tr>\n",
       "      <th>9</th>\n",
       "      <td>10878921041</td>\n",
       "    </tr>\n",
       "    <tr>\n",
       "      <th>1</th>\n",
       "      <td>5396885454</td>\n",
       "    </tr>\n",
       "  </tbody>\n",
       "</table>\n",
       "</div>"
      ],
      "text/plain": [
       "         Profit\n",
       "6   27551262500\n",
       "12  26563071474\n",
       "4   12876005537\n",
       "9   10878921041\n",
       "1    5396885454"
      ]
     },
     "metadata": {},
     "output_type": "display_data"
    }
   ],
   "source": [
    "# СЧИТАЮ ПРИБЫЛЬНОСТЬ ПО МЕСЯЦАМ\n",
    "\n",
    "# список месяцев (порядковый номер)\n",
    "month = [1,6,12,9,4]\n",
    "\n",
    "# датафрейм для результатов вычисления суммы прибыли по фильмам в месяце\n",
    "df = pd.DataFrame(columns = ['Profit'], index = [month])\n",
    "\n",
    "# функция вычисления прибыли по фильмам в определенный месяц\n",
    "def month_profit(x):\n",
    "    month_profit = data.loc[data['release_date'].dt.month == x]\n",
    "    #display(month_profit)\n",
    "    #display(month_profit['profit'].sum())\n",
    "    return month_profit['profit'].sum()\n",
    "\n",
    "# запуск функции по каждому месяцу из списка и запись в датафрейм\n",
    "for i in month:\n",
    "    print(f'в месяце {i} прибыль составила {month_profit(i)}')\n",
    "    df.loc[i] = month_profit(i)\n",
    "\n",
    "# отображаю итоговый датафрем с сортировкой по убыванию\n",
    "display(df.sort_values('Profit', ascending=False))"
   ]
  },
  {
   "cell_type": "code",
   "execution_count": 58,
   "metadata": {},
   "outputs": [
    {
     "data": {
      "text/plain": [
       "3757679861"
      ]
     },
     "metadata": {},
     "output_type": "display_data"
    },
    {
     "data": {
      "text/html": [
       "<div>\n",
       "<style scoped>\n",
       "    .dataframe tbody tr th:only-of-type {\n",
       "        vertical-align: middle;\n",
       "    }\n",
       "\n",
       "    .dataframe tbody tr th {\n",
       "        vertical-align: top;\n",
       "    }\n",
       "\n",
       "    .dataframe thead tr th {\n",
       "        text-align: left;\n",
       "    }\n",
       "</style>\n",
       "<table border=\"1\" class=\"dataframe\">\n",
       "  <thead>\n",
       "    <tr>\n",
       "      <th></th>\n",
       "      <th>1</th>\n",
       "      <th>4</th>\n",
       "      <th>6</th>\n",
       "      <th>9</th>\n",
       "      <th>12</th>\n",
       "      <th>max_month</th>\n",
       "    </tr>\n",
       "  </thead>\n",
       "  <tbody>\n",
       "    <tr>\n",
       "      <th>2015</th>\n",
       "      <td>630233784</td>\n",
       "      <td>2602565518</td>\n",
       "      <td>3757679861</td>\n",
       "      <td>1775686025</td>\n",
       "      <td>2777325507</td>\n",
       "      <td>3757679861</td>\n",
       "    </tr>\n",
       "    <tr>\n",
       "      <th>2014</th>\n",
       "      <td>541637085</td>\n",
       "      <td>795767674</td>\n",
       "      <td>1176264662</td>\n",
       "      <td>596366679</td>\n",
       "      <td>1919080286</td>\n",
       "      <td>1919080286</td>\n",
       "    </tr>\n",
       "    <tr>\n",
       "      <th>2009</th>\n",
       "      <td>996529660</td>\n",
       "      <td>651749767</td>\n",
       "      <td>1520284741</td>\n",
       "      <td>393041320</td>\n",
       "      <td>3423239738</td>\n",
       "      <td>3423239738</td>\n",
       "    </tr>\n",
       "    <tr>\n",
       "      <th>2010</th>\n",
       "      <td>233051923</td>\n",
       "      <td>841530415</td>\n",
       "      <td>2449561498</td>\n",
       "      <td>1091274243</td>\n",
       "      <td>899583599</td>\n",
       "      <td>2449561498</td>\n",
       "    </tr>\n",
       "    <tr>\n",
       "      <th>2001</th>\n",
       "      <td>127876758</td>\n",
       "      <td>659725033</td>\n",
       "      <td>780612105</td>\n",
       "      <td>21874909</td>\n",
       "      <td>1703868124</td>\n",
       "      <td>1703868124</td>\n",
       "    </tr>\n",
       "    <tr>\n",
       "      <th>2008</th>\n",
       "      <td>440344541</td>\n",
       "      <td>720571689</td>\n",
       "      <td>1943384763</td>\n",
       "      <td>339476350</td>\n",
       "      <td>1126935570</td>\n",
       "      <td>1943384763</td>\n",
       "    </tr>\n",
       "    <tr>\n",
       "      <th>2011</th>\n",
       "      <td>591644835</td>\n",
       "      <td>1507477958</td>\n",
       "      <td>1524706926</td>\n",
       "      <td>733166385</td>\n",
       "      <td>1542580698</td>\n",
       "      <td>1542580698</td>\n",
       "    </tr>\n",
       "    <tr>\n",
       "      <th>2002</th>\n",
       "      <td>13657034</td>\n",
       "      <td>343737203</td>\n",
       "      <td>747704475</td>\n",
       "      <td>417267245</td>\n",
       "      <td>1848074177</td>\n",
       "      <td>1848074177</td>\n",
       "    </tr>\n",
       "    <tr>\n",
       "      <th>2012</th>\n",
       "      <td>381045653</td>\n",
       "      <td>1767272417</td>\n",
       "      <td>2965481705</td>\n",
       "      <td>1308166465</td>\n",
       "      <td>1105170337</td>\n",
       "      <td>2965481705</td>\n",
       "    </tr>\n",
       "    <tr>\n",
       "      <th>2003</th>\n",
       "      <td>145423503</td>\n",
       "      <td>479653942</td>\n",
       "      <td>406445507</td>\n",
       "      <td>503313816</td>\n",
       "      <td>1862594516</td>\n",
       "      <td>1862594516</td>\n",
       "    </tr>\n",
       "    <tr>\n",
       "      <th>2013</th>\n",
       "      <td>449051535</td>\n",
       "      <td>1423545114</td>\n",
       "      <td>2411922008</td>\n",
       "      <td>1165693297</td>\n",
       "      <td>1715008475</td>\n",
       "      <td>2411922008</td>\n",
       "    </tr>\n",
       "    <tr>\n",
       "      <th>2005</th>\n",
       "      <td>419099490</td>\n",
       "      <td>178673498</td>\n",
       "      <td>1193230558</td>\n",
       "      <td>995622427</td>\n",
       "      <td>1354115156</td>\n",
       "      <td>1354115156</td>\n",
       "    </tr>\n",
       "    <tr>\n",
       "      <th>2006</th>\n",
       "      <td>138996816</td>\n",
       "      <td>361121653</td>\n",
       "      <td>2098059770</td>\n",
       "      <td>451456811</td>\n",
       "      <td>935240354</td>\n",
       "      <td>2098059770</td>\n",
       "    </tr>\n",
       "    <tr>\n",
       "      <th>2004</th>\n",
       "      <td>223449403</td>\n",
       "      <td>275005057</td>\n",
       "      <td>1294266591</td>\n",
       "      <td>475369751</td>\n",
       "      <td>1106961735</td>\n",
       "      <td>1294266591</td>\n",
       "    </tr>\n",
       "    <tr>\n",
       "      <th>2007</th>\n",
       "      <td>91188025</td>\n",
       "      <td>143245753</td>\n",
       "      <td>2764341802</td>\n",
       "      <td>435838557</td>\n",
       "      <td>1831805203</td>\n",
       "      <td>2764341802</td>\n",
       "    </tr>\n",
       "    <tr>\n",
       "      <th>2000</th>\n",
       "      <td>-26344591</td>\n",
       "      <td>124362846</td>\n",
       "      <td>517315528</td>\n",
       "      <td>175306761</td>\n",
       "      <td>1411487999</td>\n",
       "      <td>1411487999</td>\n",
       "    </tr>\n",
       "  </tbody>\n",
       "</table>\n",
       "</div>"
      ],
      "text/plain": [
       "              1           4           6           9          12   max_month\n",
       "2015  630233784  2602565518  3757679861  1775686025  2777325507  3757679861\n",
       "2014  541637085   795767674  1176264662   596366679  1919080286  1919080286\n",
       "2009  996529660   651749767  1520284741   393041320  3423239738  3423239738\n",
       "2010  233051923   841530415  2449561498  1091274243   899583599  2449561498\n",
       "2001  127876758   659725033   780612105    21874909  1703868124  1703868124\n",
       "2008  440344541   720571689  1943384763   339476350  1126935570  1943384763\n",
       "2011  591644835  1507477958  1524706926   733166385  1542580698  1542580698\n",
       "2002   13657034   343737203   747704475   417267245  1848074177  1848074177\n",
       "2012  381045653  1767272417  2965481705  1308166465  1105170337  2965481705\n",
       "2003  145423503   479653942   406445507   503313816  1862594516  1862594516\n",
       "2013  449051535  1423545114  2411922008  1165693297  1715008475  2411922008\n",
       "2005  419099490   178673498  1193230558   995622427  1354115156  1354115156\n",
       "2006  138996816   361121653  2098059770   451456811   935240354  2098059770\n",
       "2004  223449403   275005057  1294266591   475369751  1106961735  1294266591\n",
       "2007   91188025   143245753  2764341802   435838557  1831805203  2764341802\n",
       "2000  -26344591   124362846   517315528   175306761  1411487999  1411487999"
      ]
     },
     "metadata": {},
     "output_type": "display_data"
    },
    {
     "name": "stdout",
     "output_type": "stream",
     "text": [
      "(12,)\n"
     ]
    },
    {
     "data": {
      "text/plain": [
       "1703868124"
      ]
     },
     "metadata": {},
     "output_type": "display_data"
    }
   ],
   "source": [
    "# СЧИТАЮ ПРИБЫЛЬНОСТЬ МЕСЯЦЕВ ПО ГОДАМ\n",
    "\n",
    "year = data.release_year.unique()\n",
    "month = [1,4,6,9,12]\n",
    "\n",
    "# датафрейм для подсчета количества прибыли от фильмов по годам в разрезе месяцев\n",
    "df = pd.DataFrame(columns = [month], index = [year])\n",
    "\n",
    "# функция вычисления прибыли по всем фильмам в определенный месяц и год\n",
    "def year_month_profit(m,y):\n",
    "    year_month_profit = data.loc[(data['release_date'].dt.month == m) & ((data['release_year'] == y))]\n",
    "    #display(year_month_profit)\n",
    "    return year_month_profit['profit'].sum()\n",
    "\n",
    "# запуск функции по каждому году и месяцу из списка и запись в датафрейм\n",
    "for y in year:\n",
    "    for m in month:\n",
    "        #print(f'передаю месяц {m} за год {y}')\n",
    "        df.loc[y,m] = year_month_profit(m,y)\n",
    "        #print(year_month_profit(m,y))\n",
    "\n",
    "# добавление столбца с расчетом самого прибыльного месяца в телении года\n",
    "df['max_month'] = df.apply((lambda x: x.max()), axis = 1)\n",
    "display(df.iloc[0].max())\n",
    "display(df)\n",
    "\n",
    "x = 4 # менять номер строки\n",
    "ordinal = 0\n",
    "temp_list = []\n",
    "columns = []\n",
    "for i in df.iloc[x]:\n",
    "    temp_list.append(i)\n",
    "for q in temp_list:\n",
    "    if q == df.iloc[x].max():\n",
    "        break\n",
    "    else:\n",
    "        ordinal += 1\n",
    "for e in df:\n",
    "    columns.append(e)\n",
    "print(df[columns[ordinal]].name)\n",
    "display(df.iloc[x].max())"
   ]
  },
  {
   "attachments": {
    "image.png": {
     "image/png": "[encoded data removed]"
    }
   },
   "cell_type": "markdown",
   "metadata": {},
   "source": [
    "итоговая таблица с числом (порядковый номер месяца в году) максимального месяца, последний столбец количество месяцев:\n",
    "![image.png](attachment:image.png)"
   ]
  },
  {
   "cell_type": "code",
   "execution_count": 95,
   "metadata": {},
   "outputs": [],
   "source": [
    "answer_ls.append(2)"
   ]
  },
  {
   "cell_type": "markdown",
   "metadata": {},
   "source": [
    "# 31. Названия фильмов какой студии в среднем самые длинные по количеству символов?\n",
    "Варианты ответа:\n",
    "1. Universal Pictures (Universal)\n",
    "2. Warner Bros\n",
    "3. Jim Henson Company, The\n",
    "4. Paramount Pictures\n",
    "5. Four By Two Productions"
   ]
  },
  {
   "cell_type": "code",
   "execution_count": 182,
   "metadata": {},
   "outputs": [
    {
     "data": {
      "text/html": [
       "<div>\n",
       "<style scoped>\n",
       "    .dataframe tbody tr th:only-of-type {\n",
       "        vertical-align: middle;\n",
       "    }\n",
       "\n",
       "    .dataframe tbody tr th {\n",
       "        vertical-align: top;\n",
       "    }\n",
       "\n",
       "    .dataframe thead th {\n",
       "        text-align: right;\n",
       "    }\n",
       "</style>\n",
       "<table border=\"1\" class=\"dataframe\">\n",
       "  <thead>\n",
       "    <tr style=\"text-align: right;\">\n",
       "      <th></th>\n",
       "      <th>MeanCharactersName</th>\n",
       "    </tr>\n",
       "  </thead>\n",
       "  <tbody>\n",
       "    <tr>\n",
       "      <th>Four By Two</th>\n",
       "      <td>83</td>\n",
       "    </tr>\n",
       "    <tr>\n",
       "      <th>Jim Henson Company</th>\n",
       "      <td>59</td>\n",
       "    </tr>\n",
       "    <tr>\n",
       "      <th>Paramount Pictures</th>\n",
       "      <td>17.0328</td>\n",
       "    </tr>\n",
       "    <tr>\n",
       "      <th>Warner Bros</th>\n",
       "      <td>15.2514</td>\n",
       "    </tr>\n",
       "    <tr>\n",
       "      <th>Universal Pictures</th>\n",
       "      <td>14.678</td>\n",
       "    </tr>\n",
       "  </tbody>\n",
       "</table>\n",
       "</div>"
      ],
      "text/plain": [
       "                   MeanCharactersName\n",
       "Four By Two                        83\n",
       "Jim Henson Company                 59\n",
       "Paramount Pictures            17.0328\n",
       "Warner Bros                   15.2514\n",
       "Universal Pictures             14.678"
      ]
     },
     "metadata": {},
     "output_type": "display_data"
    }
   ],
   "source": [
    "# добавляю новую колонку CountCharactersName с вычислением количества символов в названии\n",
    "# построчно вычисляю и добавляю в исходный датафрейм\n",
    "data['CountCharactersName'] = data.apply(lambda x: len(x.loc['original_title']), axis = 1)\n",
    "\n",
    "#перебор строк в датафрейме и замена 'Universal|' на 'Universal Pictures', с перезаписью в датафрейм\n",
    "data.production_companies = data.production_companies.apply(lambda x: x.replace('Universal|', 'Universal Pictures') if type(x) == str else x)\n",
    "\n",
    "# список студий\n",
    "prod_comp = [\"Universal Pictures\",\"Warner Bros\",\"Jim Henson Company\",\"Paramount Pictures\",\"Four By Two\"]\n",
    "\n",
    "# датафрейм для результатов вычисления средней значения суммы символов в названии фильмов по студиям\n",
    "df = pd.DataFrame(columns = ['MeanCharactersName'], index = [prod_comp])\n",
    "\n",
    "# функция вычисления среднего значения суммы символов в названии фильмов\n",
    "def name_mean(x):\n",
    "    comp_film = data[data.production_companies.str.contains(x, na=False)]\n",
    "    #display(comp_film)\n",
    "    return comp_film['CountCharactersName'].mean()\n",
    "\n",
    "# запуск функции по каждой студии из списка и запись в датафрейм\n",
    "for i in prod_comp:\n",
    "    #print(f'по студии {i} средняя длинна названия была {name_mean(i)}')\n",
    "    df.loc[i] = name_mean(i)\n",
    "\n",
    "# отображаю итоговый датафрем с сортировкой по убыванию\n",
    "display(df.sort_values('MeanCharactersName', ascending=False))"
   ]
  },
  {
   "cell_type": "code",
   "execution_count": 96,
   "metadata": {},
   "outputs": [],
   "source": [
    "answer_ls.append(5)"
   ]
  },
  {
   "cell_type": "markdown",
   "metadata": {},
   "source": [
    "# 32. Названия фильмов какой студии в среднем самые длинные по количеству слов?\n",
    "Варианты ответа:\n",
    "1. Universal Pictures (Universal)\n",
    "2. Warner Bros\n",
    "3. Jim Henson Company, The\n",
    "4. Paramount Pictures\n",
    "5. Four By Two Productions"
   ]
  },
  {
   "cell_type": "code",
   "execution_count": 15,
   "metadata": {},
   "outputs": [
    {
     "data": {
      "text/html": [
       "<div>\n",
       "<style scoped>\n",
       "    .dataframe tbody tr th:only-of-type {\n",
       "        vertical-align: middle;\n",
       "    }\n",
       "\n",
       "    .dataframe tbody tr th {\n",
       "        vertical-align: top;\n",
       "    }\n",
       "\n",
       "    .dataframe thead th {\n",
       "        text-align: right;\n",
       "    }\n",
       "</style>\n",
       "<table border=\"1\" class=\"dataframe\">\n",
       "  <thead>\n",
       "    <tr style=\"text-align: right;\">\n",
       "      <th></th>\n",
       "      <th>CountWordName</th>\n",
       "    </tr>\n",
       "  </thead>\n",
       "  <tbody>\n",
       "    <tr>\n",
       "      <th>Four By Two</th>\n",
       "      <td>12</td>\n",
       "    </tr>\n",
       "    <tr>\n",
       "      <th>Jim Henson Company</th>\n",
       "      <td>10</td>\n",
       "    </tr>\n",
       "    <tr>\n",
       "      <th>Paramount Pictures</th>\n",
       "      <td>2.86885</td>\n",
       "    </tr>\n",
       "    <tr>\n",
       "      <th>Warner Bros</th>\n",
       "      <td>2.73224</td>\n",
       "    </tr>\n",
       "    <tr>\n",
       "      <th>Universal Pictures</th>\n",
       "      <td>2.61714</td>\n",
       "    </tr>\n",
       "  </tbody>\n",
       "</table>\n",
       "</div>"
      ],
      "text/plain": [
       "                   CountWordName\n",
       "Four By Two                   12\n",
       "Jim Henson Company            10\n",
       "Paramount Pictures       2.86885\n",
       "Warner Bros              2.73224\n",
       "Universal Pictures       2.61714"
      ]
     },
     "metadata": {},
     "output_type": "display_data"
    }
   ],
   "source": [
    "# добавляю новую колонку CountWordName с вычислением количества слов в названии\n",
    "# построчно вычисляю и добавляю в исходный датафрейм\n",
    "data['CountWordName'] = data.apply(lambda x: len(x.loc['original_title'].split()), axis = 1)\n",
    "\n",
    "# список студий\n",
    "prod_comp = [\"Universal Pictures\",\"Warner Bros\",\"Jim Henson Company\",\"Paramount Pictures\",\"Four By Two\"]\n",
    "\n",
    "# датафрейм для результатов вычисления среднего количества слов в названии фильмов по студиям\n",
    "df = pd.DataFrame(columns = ['CountWordName'], index = [prod_comp])\n",
    "\n",
    "# расчет по каждой студии из списка среднего количества слов в названии фильма и запись в датафрейм\n",
    "for i in prod_comp:\n",
    "    comp_film = data[data.production_companies.str.contains(i, na=False)]\n",
    "    df.loc[i] = comp_film['CountWordName'].mean()\n",
    "    #print(f'по студии {i} среднее количество слов в названии было {comp_film['CountWordName'].mean()}')\n",
    "\n",
    "# отображаю итоговый датафрем с сортировкой по убыванию\n",
    "display(df.sort_values('CountWordName', ascending=False))"
   ]
  },
  {
   "cell_type": "code",
   "execution_count": 97,
   "metadata": {},
   "outputs": [],
   "source": [
    "answer_ls.append(5)"
   ]
  },
  {
   "cell_type": "markdown",
   "metadata": {},
   "source": [
    "# 33. Сколько разных слов используется в названиях фильмов?(без учета регистра)\n",
    "Варианты ответа:\n",
    "1. 6540\n",
    "2. 1002\n",
    "3. 2461\n",
    "4. 28304\n",
    "5. 3432"
   ]
  },
  {
   "cell_type": "code",
   "execution_count": 38,
   "metadata": {},
   "outputs": [
    {
     "name": "stdout",
     "output_type": "stream",
     "text": [
      "2461\n"
     ]
    }
   ],
   "source": [
    "# список для хранения всех слов из названий фильмов\n",
    "list_1 = []\n",
    "\n",
    "# названия фильмов из датафрема разделяю на слова, привожу к нижнему регистру и записываю в список\n",
    "for name in data['original_title']:\n",
    "#    display(name.split())\n",
    "    list_1 += name.lower().split()\n",
    "\n",
    "#print(list_1)\n",
    "\n",
    "# создаю список уникальных слов на основании перебора списка с словами из названий \n",
    "# + подсчитываю сколько таких слов встретилось\n",
    "c = collections.Counter()\n",
    "for word in list_1:\n",
    "    c[word] += 1\n",
    "\n",
    "# вывожу количество уникальных слов\n",
    "print(len(c))"
   ]
  },
  {
   "cell_type": "code",
   "execution_count": 98,
   "metadata": {},
   "outputs": [],
   "source": [
    "answer_ls.append(3)"
   ]
  },
  {
   "cell_type": "markdown",
   "metadata": {},
   "source": [
    "# 34. Какие фильмы входят в 1 процент лучших по рейтингу?\n",
    "Варианты ответа:\n",
    "\n",
    "1. Inside Out, Gone Girl, 12 Years a Slave\n",
    "2. BloodRayne, The Adventures of Rocky and Bullwinkle\n",
    "3. The Lord of the Rings: The Return of the King, Upside Down\n",
    "4. 300, Lucky Number Slevin\n",
    "5. Upside Down, 300, Inside Out, The Lord of the Rings: The Return of the King"
   ]
  },
  {
   "cell_type": "code",
   "execution_count": 2,
   "metadata": {},
   "outputs": [
    {
     "name": "stdout",
     "output_type": "stream",
     "text": [
      "9                                          Inside Out\n",
      "34                                               Room\n",
      "118                                      Interstellar\n",
      "119                           Guardians of the Galaxy\n",
      "125                                The Imitation Game\n",
      "128                                         Gone Girl\n",
      "138                          The Grand Budapest Hotel\n",
      "370                                         Inception\n",
      "600                                   The Dark Knight\n",
      "873                                       The Pianist\n",
      "1082    The Lord of the Rings: The Return of the King\n",
      "1184                          The Wolf of Wall Street\n",
      "1192                                 12 Years a Slave\n",
      "1801                                          Memento\n",
      "Name: original_title, dtype: object\n"
     ]
    }
   ],
   "source": [
    "# расчитываю квантиль 1% по рейтингу\n",
    "quantile = data.vote_average.quantile(0.99)\n",
    "# вывожу названия фильмов которые имеют рейтинг больше квантеля\n",
    "print(data[data.vote_average > quantile].original_title)"
   ]
  },
  {
   "cell_type": "code",
   "execution_count": 63,
   "metadata": {},
   "outputs": [],
   "source": [
    "answer_ls.append(1)"
   ]
  },
  {
   "cell_type": "markdown",
   "metadata": {},
   "source": [
    "# 35. Какие актеры чаще всего снимаются в одном фильме вместе\n",
    "Варианты ответа:\n",
    "1. Johnny Depp & Helena Bonham Carter\n",
    "2. Hugh Jackman & Ian McKellen\n",
    "3. Vin Diesel & Paul Walker\n",
    "4. Adam Sandler & Kevin James\n",
    "5. Daniel Radcliffe & Rupert Grint"
   ]
  },
  {
   "cell_type": "code",
   "execution_count": 54,
   "metadata": {},
   "outputs": [
    {
     "name": "stdout",
     "output_type": "stream",
     "text": [
      "6 5 5 5 8\n"
     ]
    }
   ],
   "source": [
    "# переменные для посчета количества фильмов с участием пары\n",
    "pair_1 = 0\n",
    "pair_2 = 0\n",
    "pair_3 = 0\n",
    "pair_4 = 0\n",
    "pair_5 = 0\n",
    "\n",
    "# перебор актеров сз поля в таблице и подсчет по парам встречающихся имен\n",
    "for actor in data['cast']:\n",
    "    if 'Johnny Depp' in actor:\n",
    "        if 'Helena Bonham Carter' in actor:\n",
    "            pair_1 += 1\n",
    "    elif 'Hugh Jackman' in actor:\n",
    "        if 'Ian McKellen' in actor:\n",
    "            pair_2 += 1\n",
    "    elif 'Vin Diesel' in actor:\n",
    "        if 'Paul Walker' in actor:\n",
    "            pair_3 += 1\n",
    "    elif 'Adam Sandler' in actor:\n",
    "        if 'Kevin James' in actor:\n",
    "            pair_4 += 1\n",
    "    elif 'Daniel Radcliffe' in actor:\n",
    "        if 'Rupert Grint' in actor:\n",
    "            pair_5 += 1\n",
    "\n",
    "print(pair_1, pair_2, pair_3, pair_4, pair_5)"
   ]
  },
  {
   "cell_type": "code",
   "execution_count": 99,
   "metadata": {},
   "outputs": [],
   "source": [
    "answer_ls.append(5)"
   ]
  },
  {
   "cell_type": "markdown",
   "metadata": {},
   "source": [
    "# 36. У какого из режиссеров выше вероятность выпустить фильм в прибыли? (5 баллов)101\n",
    "Варианты ответа:\n",
    "1. Quentin Tarantino\n",
    "2. Steven Soderbergh\n",
    "3. Robert Rodriguez\n",
    "4. Christopher Nolan\n",
    "5. Clint Eastwood"
   ]
  },
  {
   "cell_type": "code",
   "execution_count": 65,
   "metadata": {},
   "outputs": [
    {
     "data": {
      "text/html": [
       "<div>\n",
       "<style scoped>\n",
       "    .dataframe tbody tr th:only-of-type {\n",
       "        vertical-align: middle;\n",
       "    }\n",
       "\n",
       "    .dataframe tbody tr th {\n",
       "        vertical-align: top;\n",
       "    }\n",
       "\n",
       "    .dataframe thead th {\n",
       "        text-align: right;\n",
       "    }\n",
       "</style>\n",
       "<table border=\"1\" class=\"dataframe\">\n",
       "  <thead>\n",
       "    <tr style=\"text-align: right;\">\n",
       "      <th></th>\n",
       "      <th>SuccessRate</th>\n",
       "    </tr>\n",
       "  </thead>\n",
       "  <tbody>\n",
       "    <tr>\n",
       "      <th>Christopher Nolan</th>\n",
       "      <td>100</td>\n",
       "    </tr>\n",
       "    <tr>\n",
       "      <th>Quentin Tarantino</th>\n",
       "      <td>85.7143</td>\n",
       "    </tr>\n",
       "    <tr>\n",
       "      <th>Clint Eastwood</th>\n",
       "      <td>83.3333</td>\n",
       "    </tr>\n",
       "    <tr>\n",
       "      <th>Steven Soderbergh</th>\n",
       "      <td>76.9231</td>\n",
       "    </tr>\n",
       "    <tr>\n",
       "      <th>Robert Rodriguez</th>\n",
       "      <td>72.7273</td>\n",
       "    </tr>\n",
       "  </tbody>\n",
       "</table>\n",
       "</div>"
      ],
      "text/plain": [
       "                  SuccessRate\n",
       "Christopher Nolan         100\n",
       "Quentin Tarantino     85.7143\n",
       "Clint Eastwood        83.3333\n",
       "Steven Soderbergh     76.9231\n",
       "Robert Rodriguez      72.7273"
      ]
     },
     "metadata": {},
     "output_type": "display_data"
    }
   ],
   "source": [
    "# список режисеров\n",
    "directors = [\"Quentin Tarantino\",\"Steven Soderbergh\",\"Robert Rodriguez\",\"Christopher Nolan\",\"Clint Eastwood\"]\n",
    "\n",
    "# датафрейм для записи % успешности по каждому режисеру\n",
    "df = pd.DataFrame(columns = ['SuccessRate'], index = [directors])\n",
    "\n",
    "# функция вычисления успешности режисера\n",
    "def dir_successrate(x):\n",
    "    dir_films = data[data.director.str.contains(x, na=False)]\n",
    "    #display(dir_films)\n",
    "    # количество фильмов\n",
    "    cf = len(dir_films)\n",
    "    #print(cf)\n",
    "    # количество успешных фильмов \n",
    "    cpf = len(dir_films.loc[dir_films['profit'] > 0])\n",
    "    #print(cpf)\n",
    "    #print((cpf*100)/cf)\n",
    "    return (cpf*100)/cf\n",
    "\n",
    "# применение функции по каждому режисеру из списка и запись в датафрейм\n",
    "for i in directors:\n",
    "    #print(f'У режисера {i} % успешных фильмов {dir_successrate(i)}')\n",
    "    df.loc[i] = dir_successrate(i)\n",
    "\n",
    "# отображаю итоговый датафрем с сортировкой по убыванию\n",
    "display(df.sort_values('SuccessRate', ascending=False))"
   ]
  },
  {
   "cell_type": "code",
   "execution_count": 103,
   "metadata": {},
   "outputs": [],
   "source": [
    "answer_ls.append(4)"
   ]
  },
  {
   "cell_type": "markdown",
   "metadata": {},
   "source": [
    "# Submission"
   ]
  },
  {
   "cell_type": "code",
   "execution_count": 109,
   "metadata": {},
   "outputs": [
    {
     "name": "stdout",
     "output_type": "stream",
     "text": [
      "[4, 2, 3, 2, 1, 5, 2, 1, 4, 5, 3, 1, 3, 4, 5, 1, 3, 3, 2, 1, 4, 2, 3, 1, 5, 1, 4, 2, 5, 2, 5, 5, 3, 5, 4]\n",
      "35\n"
     ]
    }
   ],
   "source": [
    "#del answer_ls[-1]\n",
    "print(answer_ls)\n",
    "print(len(answer_ls))"
   ]
  },
  {
   "cell_type": "code",
   "execution_count": 110,
   "metadata": {},
   "outputs": [
    {
     "data": {
      "text/html": [
       "<div>\n",
       "<style scoped>\n",
       "    .dataframe tbody tr th:only-of-type {\n",
       "        vertical-align: middle;\n",
       "    }\n",
       "\n",
       "    .dataframe tbody tr th {\n",
       "        vertical-align: top;\n",
       "    }\n",
       "\n",
       "    .dataframe thead th {\n",
       "        text-align: right;\n",
       "    }\n",
       "</style>\n",
       "<table border=\"1\" class=\"dataframe\">\n",
       "  <thead>\n",
       "    <tr style=\"text-align: right;\">\n",
       "      <th></th>\n",
       "      <th>Id</th>\n",
       "      <th>Answer</th>\n",
       "    </tr>\n",
       "  </thead>\n",
       "  <tbody>\n",
       "    <tr>\n",
       "      <th>0</th>\n",
       "      <td>1</td>\n",
       "      <td>4</td>\n",
       "    </tr>\n",
       "    <tr>\n",
       "      <th>1</th>\n",
       "      <td>2</td>\n",
       "      <td>2</td>\n",
       "    </tr>\n",
       "    <tr>\n",
       "      <th>2</th>\n",
       "      <td>3</td>\n",
       "      <td>3</td>\n",
       "    </tr>\n",
       "    <tr>\n",
       "      <th>3</th>\n",
       "      <td>4</td>\n",
       "      <td>2</td>\n",
       "    </tr>\n",
       "    <tr>\n",
       "      <th>4</th>\n",
       "      <td>5</td>\n",
       "      <td>1</td>\n",
       "    </tr>\n",
       "    <tr>\n",
       "      <th>5</th>\n",
       "      <td>6</td>\n",
       "      <td>5</td>\n",
       "    </tr>\n",
       "    <tr>\n",
       "      <th>6</th>\n",
       "      <td>7</td>\n",
       "      <td>2</td>\n",
       "    </tr>\n",
       "    <tr>\n",
       "      <th>7</th>\n",
       "      <td>8</td>\n",
       "      <td>1</td>\n",
       "    </tr>\n",
       "    <tr>\n",
       "      <th>8</th>\n",
       "      <td>9</td>\n",
       "      <td>4</td>\n",
       "    </tr>\n",
       "    <tr>\n",
       "      <th>9</th>\n",
       "      <td>10</td>\n",
       "      <td>5</td>\n",
       "    </tr>\n",
       "    <tr>\n",
       "      <th>10</th>\n",
       "      <td>11</td>\n",
       "      <td>3</td>\n",
       "    </tr>\n",
       "    <tr>\n",
       "      <th>11</th>\n",
       "      <td>12</td>\n",
       "      <td>1</td>\n",
       "    </tr>\n",
       "    <tr>\n",
       "      <th>12</th>\n",
       "      <td>13</td>\n",
       "      <td>3</td>\n",
       "    </tr>\n",
       "    <tr>\n",
       "      <th>13</th>\n",
       "      <td>14</td>\n",
       "      <td>4</td>\n",
       "    </tr>\n",
       "    <tr>\n",
       "      <th>14</th>\n",
       "      <td>15</td>\n",
       "      <td>5</td>\n",
       "    </tr>\n",
       "    <tr>\n",
       "      <th>15</th>\n",
       "      <td>16</td>\n",
       "      <td>1</td>\n",
       "    </tr>\n",
       "    <tr>\n",
       "      <th>16</th>\n",
       "      <td>17</td>\n",
       "      <td>3</td>\n",
       "    </tr>\n",
       "    <tr>\n",
       "      <th>17</th>\n",
       "      <td>18</td>\n",
       "      <td>3</td>\n",
       "    </tr>\n",
       "    <tr>\n",
       "      <th>18</th>\n",
       "      <td>19</td>\n",
       "      <td>2</td>\n",
       "    </tr>\n",
       "    <tr>\n",
       "      <th>19</th>\n",
       "      <td>20</td>\n",
       "      <td>1</td>\n",
       "    </tr>\n",
       "    <tr>\n",
       "      <th>20</th>\n",
       "      <td>21</td>\n",
       "      <td>4</td>\n",
       "    </tr>\n",
       "    <tr>\n",
       "      <th>21</th>\n",
       "      <td>22</td>\n",
       "      <td>2</td>\n",
       "    </tr>\n",
       "    <tr>\n",
       "      <th>22</th>\n",
       "      <td>23</td>\n",
       "      <td>3</td>\n",
       "    </tr>\n",
       "    <tr>\n",
       "      <th>23</th>\n",
       "      <td>24</td>\n",
       "      <td>1</td>\n",
       "    </tr>\n",
       "    <tr>\n",
       "      <th>24</th>\n",
       "      <td>25</td>\n",
       "      <td>5</td>\n",
       "    </tr>\n",
       "    <tr>\n",
       "      <th>25</th>\n",
       "      <td>26</td>\n",
       "      <td>1</td>\n",
       "    </tr>\n",
       "    <tr>\n",
       "      <th>26</th>\n",
       "      <td>27</td>\n",
       "      <td>4</td>\n",
       "    </tr>\n",
       "    <tr>\n",
       "      <th>27</th>\n",
       "      <td>28</td>\n",
       "      <td>2</td>\n",
       "    </tr>\n",
       "    <tr>\n",
       "      <th>28</th>\n",
       "      <td>29</td>\n",
       "      <td>5</td>\n",
       "    </tr>\n",
       "    <tr>\n",
       "      <th>29</th>\n",
       "      <td>30</td>\n",
       "      <td>2</td>\n",
       "    </tr>\n",
       "    <tr>\n",
       "      <th>30</th>\n",
       "      <td>31</td>\n",
       "      <td>5</td>\n",
       "    </tr>\n",
       "    <tr>\n",
       "      <th>31</th>\n",
       "      <td>32</td>\n",
       "      <td>5</td>\n",
       "    </tr>\n",
       "    <tr>\n",
       "      <th>32</th>\n",
       "      <td>33</td>\n",
       "      <td>3</td>\n",
       "    </tr>\n",
       "    <tr>\n",
       "      <th>33</th>\n",
       "      <td>34</td>\n",
       "      <td>5</td>\n",
       "    </tr>\n",
       "    <tr>\n",
       "      <th>34</th>\n",
       "      <td>35</td>\n",
       "      <td>4</td>\n",
       "    </tr>\n",
       "  </tbody>\n",
       "</table>\n",
       "</div>"
      ],
      "text/plain": [
       "    Id  Answer\n",
       "0    1       4\n",
       "1    2       2\n",
       "2    3       3\n",
       "3    4       2\n",
       "4    5       1\n",
       "5    6       5\n",
       "6    7       2\n",
       "7    8       1\n",
       "8    9       4\n",
       "9   10       5\n",
       "10  11       3\n",
       "11  12       1\n",
       "12  13       3\n",
       "13  14       4\n",
       "14  15       5\n",
       "15  16       1\n",
       "16  17       3\n",
       "17  18       3\n",
       "18  19       2\n",
       "19  20       1\n",
       "20  21       4\n",
       "21  22       2\n",
       "22  23       3\n",
       "23  24       1\n",
       "24  25       5\n",
       "25  26       1\n",
       "26  27       4\n",
       "27  28       2\n",
       "28  29       5\n",
       "29  30       2\n",
       "30  31       5\n",
       "31  32       5\n",
       "32  33       3\n",
       "33  34       5\n",
       "34  35       4"
      ]
     },
     "execution_count": 110,
     "metadata": {},
     "output_type": "execute_result"
    }
   ],
   "source": [
    "pd.DataFrame({'Id':range(1,len(answer_ls)+1), 'Answer':answer_ls}, columns=['Id', 'Answer'])"
   ]
  },
  {
   "cell_type": "code",
   "execution_count": null,
   "metadata": {},
   "outputs": [],
   "source": []
  }
 ],
 "metadata": {
  "kernelspec": {
   "display_name": "Python 3",
   "language": "python",
   "name": "python3"
  },
  "language_info": {
   "codemirror_mode": {
    "name": "ipython",
    "version": 3
   },
   "file_extension": ".py",
   "mimetype": "text/x-python",
   "name": "python",
   "nbconvert_exporter": "python",
   "pygments_lexer": "ipython3",
   "version": "3.7.6"
  }
 },
 "nbformat": 4,
 "nbformat_minor": 4
}
